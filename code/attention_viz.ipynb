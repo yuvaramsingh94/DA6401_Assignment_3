{
 "cells": [
  {
   "cell_type": "code",
   "execution_count": 66,
   "metadata": {},
   "outputs": [],
   "source": [
    "from Config import Config\n",
    "from torch.utils.data import DataLoader\n",
    "import torch\n",
    "import wandb\n",
    "import gc\n",
    "import torch.nn.functional as F\n",
    "from lightning.pytorch.loggers import WandbLogger\n",
    "import os\n",
    "from lightning import Trainer, seed_everything\n",
    "from dataloader import CustomTextDataset\n",
    "import argparse\n",
    "import pandas as pd\n",
    "from Seq2SeqModel import Seq2SeqModel\n",
    "import seaborn as sns\n",
    "import json\n",
    "from utils import decoder_function\n",
    "from tqdm import tqdm"
   ]
  },
  {
   "cell_type": "code",
   "execution_count": 25,
   "metadata": {},
   "outputs": [],
   "source": [
    "## Dataloader\n",
    "TEST_BATCH_SIZE = 2\n",
    "device = torch.device(\"cuda\") if torch.cuda.is_available() else torch.device(\"cpu\")\n",
    "DATASET_PATH = os.path.join(\"..\",\"dataset\", \"lexicons\")\n",
    "test_df = pd.read_csv(os.path.join(DATASET_PATH, \"ta.translit.sampled.test.idx.csv\"))\n",
    "\n",
    "with open(os.path.join(DATASET_PATH,\"tamil_token_index.json\"),'r', encoding=\"utf-8\") as f:\n",
    "\ttamil_idx = json.load(f)\n",
    "tamil_idx_to_char = {j:i for i,j in tamil_idx.items()}\n",
    "\n",
    "with open(os.path.join(DATASET_PATH,\"english_token_index.json\"),'r', encoding=\"utf-8\") as f:\n",
    "\tenglish_idx = json.load(f)\n",
    "english_idx_to_char = {j:i for i,j in english_idx.items()}\n",
    "\n",
    "english_idx_to_char[26] = \"-\"\n",
    "tamil_idx_to_char[48] = \"-\"\n",
    "\n",
    "\n",
    "config = Config()\n",
    "\n",
    "test_dataset = CustomTextDataset(\n",
    "        dataset_df=test_df,\n",
    "        X_max_length=config.X_max_length,\n",
    "        Y_max_length=config.Y_max_length,\n",
    "        X_vocab_size=config.X_vocab_size,\n",
    "        Y_vocab_size=config.Y_vocab_size,\n",
    "        X_padding_idx=config.X_padding_idx,\n",
    "        Y_padding_idx=config.Y_padding_idx,\n",
    "    )\n",
    "\n",
    "lit_model = Seq2SeqModel(config=config)"
   ]
  },
  {
   "cell_type": "code",
   "execution_count": 26,
   "metadata": {},
   "outputs": [
    {
     "name": "stdout",
     "output_type": "stream",
     "text": [
      "torch.Size([1, 30])\n"
     ]
    }
   ],
   "source": [
    "X, Y_decoder_ip, Y_decoder_op, X_len, Y_decoder_ip_len, Y_decoder_op_len = test_dataset.__getitem__(0)\n",
    "\n",
    "X_native = decoder_function(character_idx_seq=','.join([str(i) for i in X.detach().numpy()]), idx_to_char_dict=english_idx_to_char)\n",
    "Y_native = decoder_function(character_idx_seq=','.join([str(i) for i in Y_decoder_op.detach().numpy()]), idx_to_char_dict=tamil_idx_to_char)\n",
    "\n",
    "\n",
    "X = torch.unsqueeze(X, 0).to(device)\n",
    "X_len = torch.unsqueeze(X_len, 0).to(device)\n",
    "Y_decoder_ip = torch.unsqueeze(Y_decoder_ip, 0).to(device)\n",
    "\n",
    "print(X.shape)"
   ]
  },
  {
   "cell_type": "code",
   "execution_count": 39,
   "metadata": {},
   "outputs": [
    {
     "data": {
      "text/plain": [
       "tensor(7, dtype=torch.int32)"
      ]
     },
     "execution_count": 39,
     "metadata": {},
     "output_type": "execute_result"
    }
   ],
   "source": [
    "Y_decoder_op_len"
   ]
  },
  {
   "cell_type": "code",
   "execution_count": 10,
   "metadata": {},
   "outputs": [
    {
     "data": {
      "text/plain": [
       "torch.Size([1, 27])"
      ]
     },
     "execution_count": 10,
     "metadata": {},
     "output_type": "execute_result"
    }
   ],
   "source": [
    "Y_decoder_ip.shape"
   ]
  },
  {
   "cell_type": "code",
   "execution_count": 5,
   "metadata": {},
   "outputs": [],
   "source": [
    "(logits, attn_weight_list) = lit_model(X, X_len, Y_decoder_ip)\n",
    "attn_weight_list = attn_weight_list.squeeze(0).permute(1,0) # reshaped to [X_max_len, Y_max_len]"
   ]
  },
  {
   "cell_type": "markdown",
   "metadata": {},
   "source": [
    "## Make an inference code where it iteratively go over the decoder"
   ]
  },
  {
   "cell_type": "code",
   "execution_count": null,
   "metadata": {},
   "outputs": [
    {
     "name": "stderr",
     "output_type": "stream",
     "text": [
      "100%|██████████| 10/10 [00:01<00:00,  9.48it/s]"
     ]
    },
    {
     "name": "stdout",
     "output_type": "stream",
     "text": [
      "Test accuracy 0.0\n"
     ]
    },
    {
     "name": "stderr",
     "output_type": "stream",
     "text": [
      "\n"
     ]
    }
   ],
   "source": [
    "## batch size = 1 for now\n",
    "## Iterate only for the actual decoder length. this will reduce the computation\n",
    "test_correct_prediction_count = 0\n",
    "## TODO For loop over the test data. individual samples\n",
    "\n",
    "for idx in tqdm(range(len(test_dataset))):\n",
    "    X, Y_decoder_ip, Y_decoder_op, X_len, Y_decoder_ip_len, Y_decoder_op_len = test_dataset.__getitem__(idx)\n",
    "    X = torch.unsqueeze(X, 0).to(device)\n",
    "    X_len = torch.unsqueeze(X_len, 0).to(device)\n",
    "    Y_decoder_ip = torch.unsqueeze(Y_decoder_ip, 0).to(device)\n",
    "    prediction_list = []\n",
    "    for i in range(1,Y_decoder_op_len + 1): ## get the len of the decoder input \n",
    "        new_decoder_ip = torch.unsqueeze(torch.cat([Y_decoder_ip[0][:i],  torch.tensor([config.Y_padding_idx]*(config.Y_max_length - i))]),axis = 0)\n",
    "\n",
    "        ## Prediction\n",
    "        (logits, attn_weight_list) = lit_model(X, X_len, new_decoder_ip)\n",
    "        logits2 = logits.view(-1, logits.size(-1))\n",
    "        prob = F.softmax(logits2, dim=1)\n",
    "        preds = torch.argmax(prob, dim=1)\n",
    "        prediction_list.append(torch.unsqueeze(preds[i], dim=0))\n",
    "\n",
    "    prediction_tensor = torch.cat(prediction_list)\n",
    "    correct = prediction_tensor == Y_decoder_op[:Y_decoder_op_len]\n",
    "    if torch.all(correct):\n",
    "        test_correct_prediction_count += 1\n",
    "    else:\n",
    "        test_correct_prediction_count += 0\n",
    "\n",
    "test_accuracy = test_correct_prediction_count / len(test_dataset)\n",
    "print(\"Test accuracy\",test_accuracy)"
   ]
  },
  {
   "cell_type": "code",
   "execution_count": 72,
   "metadata": {},
   "outputs": [
    {
     "data": {
      "text/plain": [
       "0"
      ]
     },
     "execution_count": 72,
     "metadata": {},
     "output_type": "execute_result"
    }
   ],
   "source": [
    "test_correct_prediction_count"
   ]
  },
  {
   "cell_type": "code",
   "execution_count": null,
   "metadata": {},
   "outputs": [
    {
     "data": {
      "text/plain": [
       "tensor([ 2, 24, 37, 26, 19, 47,  1])"
      ]
     },
     "execution_count": 57,
     "metadata": {},
     "output_type": "execute_result"
    }
   ],
   "source": [
    "\n"
   ]
  },
  {
   "cell_type": "code",
   "execution_count": 46,
   "metadata": {},
   "outputs": [
    {
     "data": {
      "text/plain": [
       "torch.Size([1, 27, 48])"
      ]
     },
     "execution_count": 46,
     "metadata": {},
     "output_type": "execute_result"
    }
   ],
   "source": [
    "logits.shape"
   ]
  },
  {
   "cell_type": "code",
   "execution_count": 60,
   "metadata": {},
   "outputs": [
    {
     "name": "stderr",
     "output_type": "stream",
     "text": [
      "c:\\Users\\yuvar\\miniconda3\\envs\\fastapi\\Lib\\site-packages\\seaborn\\utils.py:61: UserWarning: Glyph 2947 (\\N{TAMIL SIGN VISARGA}) missing from font(s) DejaVu Sans.\n",
      "  fig.canvas.draw()\n",
      "c:\\Users\\yuvar\\miniconda3\\envs\\fastapi\\Lib\\site-packages\\seaborn\\utils.py:61: UserWarning: Matplotlib currently does not support Tamil natively.\n",
      "  fig.canvas.draw()\n",
      "c:\\Users\\yuvar\\miniconda3\\envs\\fastapi\\Lib\\site-packages\\seaborn\\utils.py:61: UserWarning: Glyph 2986 (\\N{TAMIL LETTER PA}) missing from font(s) DejaVu Sans.\n",
      "  fig.canvas.draw()\n",
      "c:\\Users\\yuvar\\miniconda3\\envs\\fastapi\\Lib\\site-packages\\seaborn\\utils.py:61: UserWarning: Glyph 3006 (\\N{TAMIL VOWEL SIGN AA}) missing from font(s) DejaVu Sans.\n",
      "  fig.canvas.draw()\n",
      "c:\\Users\\yuvar\\miniconda3\\envs\\fastapi\\Lib\\site-packages\\seaborn\\utils.py:61: UserWarning: Glyph 2992 (\\N{TAMIL LETTER RA}) missing from font(s) DejaVu Sans.\n",
      "  fig.canvas.draw()\n",
      "c:\\Users\\yuvar\\miniconda3\\envs\\fastapi\\Lib\\site-packages\\seaborn\\utils.py:61: UserWarning: Glyph 3021 (\\N{TAMIL SIGN VIRAMA}) missing from font(s) DejaVu Sans.\n",
      "  fig.canvas.draw()\n",
      "c:\\Users\\yuvar\\miniconda3\\envs\\fastapi\\Lib\\site-packages\\seaborn\\utils.py:61: UserWarning: Glyph 2990 (\\N{TAMIL LETTER MA}) missing from font(s) DejaVu Sans.\n",
      "  fig.canvas.draw()\n"
     ]
    },
    {
     "data": {
      "text/plain": [
       "<Axes: >"
      ]
     },
     "execution_count": 60,
     "metadata": {},
     "output_type": "execute_result"
    },
    {
     "name": "stderr",
     "output_type": "stream",
     "text": [
      "c:\\Users\\yuvar\\miniconda3\\envs\\fastapi\\Lib\\site-packages\\IPython\\core\\events.py:82: UserWarning: Glyph 2947 (\\N{TAMIL SIGN VISARGA}) missing from font(s) DejaVu Sans.\n",
      "  func(*args, **kwargs)\n",
      "c:\\Users\\yuvar\\miniconda3\\envs\\fastapi\\Lib\\site-packages\\IPython\\core\\events.py:82: UserWarning: Matplotlib currently does not support Tamil natively.\n",
      "  func(*args, **kwargs)\n",
      "c:\\Users\\yuvar\\miniconda3\\envs\\fastapi\\Lib\\site-packages\\IPython\\core\\events.py:82: UserWarning: Glyph 2986 (\\N{TAMIL LETTER PA}) missing from font(s) DejaVu Sans.\n",
      "  func(*args, **kwargs)\n",
      "c:\\Users\\yuvar\\miniconda3\\envs\\fastapi\\Lib\\site-packages\\IPython\\core\\events.py:82: UserWarning: Glyph 3006 (\\N{TAMIL VOWEL SIGN AA}) missing from font(s) DejaVu Sans.\n",
      "  func(*args, **kwargs)\n",
      "c:\\Users\\yuvar\\miniconda3\\envs\\fastapi\\Lib\\site-packages\\IPython\\core\\events.py:82: UserWarning: Glyph 2992 (\\N{TAMIL LETTER RA}) missing from font(s) DejaVu Sans.\n",
      "  func(*args, **kwargs)\n",
      "c:\\Users\\yuvar\\miniconda3\\envs\\fastapi\\Lib\\site-packages\\IPython\\core\\events.py:82: UserWarning: Glyph 3021 (\\N{TAMIL SIGN VIRAMA}) missing from font(s) DejaVu Sans.\n",
      "  func(*args, **kwargs)\n",
      "c:\\Users\\yuvar\\miniconda3\\envs\\fastapi\\Lib\\site-packages\\IPython\\core\\events.py:82: UserWarning: Glyph 2990 (\\N{TAMIL LETTER MA}) missing from font(s) DejaVu Sans.\n",
      "  func(*args, **kwargs)\n",
      "c:\\Users\\yuvar\\miniconda3\\envs\\fastapi\\Lib\\site-packages\\IPython\\core\\pylabtools.py:170: UserWarning: Glyph 2947 (\\N{TAMIL SIGN VISARGA}) missing from font(s) DejaVu Sans.\n",
      "  fig.canvas.print_figure(bytes_io, **kw)\n",
      "c:\\Users\\yuvar\\miniconda3\\envs\\fastapi\\Lib\\site-packages\\IPython\\core\\pylabtools.py:170: UserWarning: Matplotlib currently does not support Tamil natively.\n",
      "  fig.canvas.print_figure(bytes_io, **kw)\n",
      "c:\\Users\\yuvar\\miniconda3\\envs\\fastapi\\Lib\\site-packages\\IPython\\core\\pylabtools.py:170: UserWarning: Glyph 2986 (\\N{TAMIL LETTER PA}) missing from font(s) DejaVu Sans.\n",
      "  fig.canvas.print_figure(bytes_io, **kw)\n",
      "c:\\Users\\yuvar\\miniconda3\\envs\\fastapi\\Lib\\site-packages\\IPython\\core\\pylabtools.py:170: UserWarning: Glyph 3006 (\\N{TAMIL VOWEL SIGN AA}) missing from font(s) DejaVu Sans.\n",
      "  fig.canvas.print_figure(bytes_io, **kw)\n",
      "c:\\Users\\yuvar\\miniconda3\\envs\\fastapi\\Lib\\site-packages\\IPython\\core\\pylabtools.py:170: UserWarning: Glyph 2992 (\\N{TAMIL LETTER RA}) missing from font(s) DejaVu Sans.\n",
      "  fig.canvas.print_figure(bytes_io, **kw)\n",
      "c:\\Users\\yuvar\\miniconda3\\envs\\fastapi\\Lib\\site-packages\\IPython\\core\\pylabtools.py:170: UserWarning: Glyph 3021 (\\N{TAMIL SIGN VIRAMA}) missing from font(s) DejaVu Sans.\n",
      "  fig.canvas.print_figure(bytes_io, **kw)\n",
      "c:\\Users\\yuvar\\miniconda3\\envs\\fastapi\\Lib\\site-packages\\IPython\\core\\pylabtools.py:170: UserWarning: Glyph 2990 (\\N{TAMIL LETTER MA}) missing from font(s) DejaVu Sans.\n",
      "  fig.canvas.print_figure(bytes_io, **kw)\n"
     ]
    },
    {
     "data": {
      "image/png": "[encoded data removed]",
      "text/plain": [
       "<Figure size 640x480 with 2 Axes>"
      ]
     },
     "metadata": {},
     "output_type": "display_data"
    }
   ],
   "source": [
    "#attn_weight_list[:X_len.cpu().detach().numpy(),:Y_decoder_ip_len].cpu().detach().numpy()\n",
    "data = attn_weight_list[:X_len,:Y_decoder_ip_len].detach().numpy()\n",
    "sns.heatmap(data, xticklabels=Y_native[:Y_decoder_ip_len], yticklabels=X_native[:X_len])\n"
   ]
  },
  {
   "cell_type": "code",
   "execution_count": 1,
   "metadata": {},
   "outputs": [
    {
     "name": "stdout",
     "output_type": "stream",
     "text": [
      "['STIXSizeFiveSym', 'STIXSizeOneSym', 'STIXGeneral', 'STIXSizeThreeSym', 'cmex10', 'DejaVu Serif', 'STIXSizeOneSym', 'DejaVu Sans', 'DejaVu Sans', 'DejaVu Sans Mono', 'STIXSizeThreeSym', 'cmmi10', 'STIXGeneral', 'DejaVu Serif', 'STIXNonUnicode', 'DejaVu Sans Mono', 'cmsy10', 'DejaVu Sans', 'cmb10', 'STIXNonUnicode', 'STIXGeneral', 'DejaVu Serif', 'STIXSizeFourSym', 'DejaVu Sans Mono', 'STIXNonUnicode', 'STIXSizeTwoSym', 'STIXSizeFourSym', 'cmss10', 'DejaVu Sans', 'DejaVu Serif', 'STIXGeneral', 'cmr10', 'cmtt10', 'STIXNonUnicode', 'DejaVu Serif Display', 'DejaVu Sans Display', 'STIXSizeTwoSym', 'DejaVu Sans Mono', 'Georgia', 'Dubai', 'Linux Biolinum G', 'Rubik', 'Noto Sans Armenian', 'Lucida Handwriting', 'Microsoft PhagsPa', 'Book Antiqua', 'Leelawadee', 'Segoe UI Variable', 'Javanese Text', 'Liberation Sans', 'Arial', 'Frank Ruehl CLM', 'MT Extra', 'Gentium Basic', 'DejaVu Sans Mono', 'Arial', 'Segoe UI', 'Segoe UI Historic', 'Microsoft New Tai Lue', 'Gentium Basic', 'Comic Sans MS', 'DejaVu Sans', 'Frank Ruhl Hofshi', 'MS Gothic', 'Microsoft JhengHei', 'Yu Gothic', 'Courier New', 'DejaVu Serif', 'Wingdings 3', 'Cambria', 'Rubik', 'Noto Sans', 'Palatino Linotype', 'Gabriola', 'Amiri', 'Noto Serif Hebrew', 'Liberation Mono', 'Nirmala UI', 'Noto Serif', 'Calibri', 'Microsoft JhengHei', 'MS Reference Sans Serif', 'Gentium Book Basic', 'Liberation Sans Narrow', 'Nachlieli CLM', 'Constantia', 'Linux Libertine G', 'Wingdings 2', 'Microsoft JhengHei', 'SimSun', 'Corbel', 'Noto Serif', 'Nachlieli CLM', 'Noto Sans', 'DejaVu Sans', 'Segoe MDL2 Assets', 'Segoe UI', 'Noto Serif Hebrew', 'Noto Sans Lao', 'Verdana', 'Nirmala UI', 'DejaVu Sans', 'Candara', 'Webdings', 'DejaVu Math TeX Gyre', 'Liberation Serif', 'Miriam CLM', 'Linux Biolinum G', 'Linux Libertine G', 'Gentium Book Basic', 'Reem Kufi', 'Linux Biolinum G', 'Cambria', 'Nachlieli CLM', 'Book Antiqua', 'Segoe Script', 'Times New Roman', 'Miriam Libre', 'Lucida Sans Unicode', 'David CLM', 'Franklin Gothic Medium', 'Constantia', 'Leelawadee UI', 'Noto Serif Lao', 'Reem Kufi', 'Microsoft YaHei', 'David CLM', 'Noto Sans Lisu', 'Microsoft Sans Serif', 'Yu Gothic', 'Gadugi', 'Ink Free', 'Sans Serif Collection', 'Noto Serif Georgian', 'Candara', 'Linux Libertine G', 'DejaVu Serif', 'Noto Sans Arabic', 'DejaVu Serif', 'Caladea', 'Courier New', 'Noto Sans', 'Noto Sans Hebrew', 'Segoe Print', 'Noto Serif Lao', 'OpenSymbol', 'Candara', 'Segoe Print', 'Gentium Basic', 'DejaVu Sans', 'Frank Ruehl CLM', 'Scheherazade', 'Caladea', 'Amiri', 'Microsoft Yi Baiti', 'Comic Sans MS', 'Wingdings', 'Century Gothic', 'Gadugi', 'Noto Serif Armenian', 'Liberation Serif', 'Noto Serif', 'Segoe UI', 'DejaVu Serif', 'Noto Sans', 'Myanmar Text', 'DejaVu Sans', 'Sitka', 'Myanmar Text', 'Malgun Gothic', 'Times New Roman', 'David CLM', 'Bahnschrift', 'Nachlieli CLM', 'Arial', 'Comic Sans MS', 'Amiri Quran', 'Microsoft Himalaya', 'DejaVu Sans Mono', 'Calibri', 'Candara', 'Carlito', 'Century Gothic', 'Segoe UI', 'Carlito', 'Impact', 'DejaVu Serif', 'Yu Gothic', 'Mistral', 'Alef', 'Gentium Book Basic', 'Noto Serif Armenian', 'Caladea', 'Consolas', 'Alef', 'Frank Ruehl CLM', 'Century', 'David Libre', 'Franklin Gothic Medium', 'Segoe UI', 'Noto Sans Lao', 'Liberation Serif', 'Dubai', 'Liberation Mono', 'Constantia', 'Segoe UI Symbol', 'HoloLens MDL2 Assets', 'Liberation Serif', 'Cambria', 'Microsoft Uighur', 'Candara', 'Verdana', 'MV Boli', 'Palatino Linotype', 'Georgia', 'Liberation Mono', 'DejaVu Sans Mono', 'Malgun Gothic', 'Century Gothic', 'Consolas', 'Tahoma', 'Dubai', 'Leelawadee UI', 'Freestyle Script', 'DejaVu Sans Mono', 'Linux Libertine Display G', 'Trebuchet MS', 'Trebuchet MS', 'Sylfaen', 'Tempus Sans ITC', 'Candara', 'Dubai', 'Amiri', 'Noto Serif', 'Liberation Sans Narrow', 'Liberation Sans Narrow', 'Georgia', 'Gentium Book Basic', 'Segoe UI', 'Bookshelf Symbol 7', 'Noto Sans Hebrew', 'Liberation Sans', 'Segoe Fluent Icons', 'DejaVu Serif', 'David Libre', 'Sitka', 'Noto Kufi Arabic', 'Frank Ruhl Hofshi', 'Noto Sans Georgian', 'Juice ITC', 'Georgia', 'Trebuchet MS', 'Gentium Basic', 'Linux Libertine G', 'Lucida Console', 'Calibri', 'Consolas', 'Miriam Mono CLM', 'Segoe UI Emoji', 'Bradley Hand ITC', 'Liberation Sans', 'Microsoft Tai Le', 'Carlito', 'Yu Gothic', 'Segoe UI', 'Palatino Linotype', 'DejaVu Serif', 'DejaVu Serif', 'Microsoft YaHei', 'Arial', 'Courier New', 'Arial', 'Amiri', 'DejaVu Sans', 'Miriam Mono CLM', 'Liberation Mono', 'Palatino Linotype', 'Tahoma', 'French Script MT', 'Linux Libertine G', 'Calibri', 'Calibri', 'Microsoft Tai Le', 'Noto Naskh Arabic', 'Noto Serif Georgian', 'Nirmala UI', 'David CLM', 'Segoe Script', 'Noto Sans Lisu', 'Book Antiqua', 'DejaVu Sans', 'Papyrus', 'Book Antiqua', 'DejaVu Sans', 'Noto Sans Georgian', 'Trebuchet MS', 'Microsoft New Tai Lue', 'Comic Sans MS', 'Microsoft PhagsPa', 'Liberation Sans', 'Leelawadee UI', 'Calibri', 'Corbel', 'Rubik', 'Noto Sans Armenian', 'Noto Sans Arabic', 'Kristen ITC', 'Segoe UI', 'Segoe UI', 'Verdana', 'Consolas', 'Carlito', 'Verdana', 'Noto Kufi Arabic', 'Ebrima', 'Microsoft Uighur', 'Times New Roman', 'Ebrima', 'Linux Libertine G', 'Miriam Mono CLM', 'Microsoft YaHei', 'Symbol', 'Liberation Sans Narrow', 'Miriam Libre', 'Leelawadee', 'SimSun-ExtB', 'Caladea', 'Times New Roman', 'Segoe UI', 'Mongolian Baiti', 'MingLiU-ExtB', 'Segoe UI', 'Corbel', 'Rubik', 'Courier New', 'Corbel', 'Segoe UI', 'Noto Naskh Arabic', 'Century Gothic', 'Scheherazade', 'Cambria', 'Frank Ruehl CLM', 'Corbel', 'Constantia', 'Malgun Gothic', 'DejaVu Sans', 'Miriam CLM', 'MS Reference Specialty', 'Pristina', 'Corbel', 'Miriam Mono CLM']\n"
     ]
    },
    {
     "ename": "ValueError",
     "evalue": "values cannot be used without an aggfunc.",
     "output_type": "error",
     "traceback": [
      "\u001b[31m---------------------------------------------------------------------------\u001b[39m",
      "\u001b[31mValueError\u001b[39m                                Traceback (most recent call last)",
      "\u001b[36mCell\u001b[39m\u001b[36m \u001b[39m\u001b[32mIn[1]\u001b[39m\u001b[32m, line 15\u001b[39m\n\u001b[32m     12\u001b[39m \u001b[38;5;28mprint\u001b[39m(font_names)\n\u001b[32m     14\u001b[39m plt.rcParams[\u001b[33m'\u001b[39m\u001b[33mfont.family\u001b[39m\u001b[33m'\u001b[39m] = \u001b[33m'\u001b[39m\u001b[33mLatha\u001b[39m\u001b[33m'\u001b[39m \u001b[38;5;66;03m# Replace 'Latha' with your font name\u001b[39;00m\n\u001b[32m---> \u001b[39m\u001b[32m15\u001b[39m heatmap = sns.heatmap(\u001b[43mpd\u001b[49m\u001b[43m.\u001b[49m\u001b[43mcrosstab\u001b[49m\u001b[43m(\u001b[49m\u001b[43mdf\u001b[49m\u001b[43m[\u001b[49m\u001b[33;43m'\u001b[39;49m\u001b[33;43mColumn 1\u001b[39;49m\u001b[33;43m'\u001b[39;49m\u001b[43m]\u001b[49m\u001b[43m,\u001b[49m\u001b[43m \u001b[49m\u001b[43mdf\u001b[49m\u001b[43m[\u001b[49m\u001b[33;43m'\u001b[39;49m\u001b[33;43mColumn 2\u001b[39;49m\u001b[33;43m'\u001b[39;49m\u001b[43m]\u001b[49m\u001b[43m,\u001b[49m\u001b[43m \u001b[49m\u001b[43mdf\u001b[49m\u001b[43m[\u001b[49m\u001b[33;43m'\u001b[39;49m\u001b[33;43mColumn 3\u001b[39;49m\u001b[33;43m'\u001b[39;49m\u001b[43m]\u001b[49m\u001b[43m)\u001b[49m, annot=\u001b[38;5;28;01mTrue\u001b[39;00m, fmt=\u001b[33m\"\u001b[39m\u001b[33md\u001b[39m\u001b[33m\"\u001b[39m)\n\u001b[32m     17\u001b[39m \u001b[38;5;66;03m# Set labels with Tamil font\u001b[39;00m\n\u001b[32m     18\u001b[39m heatmap.set_xlabel(\u001b[33m\"\u001b[39m\u001b[33mஎக்ஸ்-அச்சு\u001b[39m\u001b[33m\"\u001b[39m)\n",
      "\u001b[36mFile \u001b[39m\u001b[32mc:\\Users\\yuvar\\miniconda3\\envs\\fastapi\\Lib\\site-packages\\pandas\\core\\reshape\\pivot.py:688\u001b[39m, in \u001b[36mcrosstab\u001b[39m\u001b[34m(index, columns, values, rownames, colnames, aggfunc, margins, margins_name, dropna, normalize)\u001b[39m\n\u001b[32m    685\u001b[39m     \u001b[38;5;28;01mraise\u001b[39;00m \u001b[38;5;167;01mValueError\u001b[39;00m(\u001b[33m\"\u001b[39m\u001b[33maggfunc cannot be used without values.\u001b[39m\u001b[33m\"\u001b[39m)\n\u001b[32m    687\u001b[39m \u001b[38;5;28;01mif\u001b[39;00m values \u001b[38;5;129;01mis\u001b[39;00m \u001b[38;5;129;01mnot\u001b[39;00m \u001b[38;5;28;01mNone\u001b[39;00m \u001b[38;5;129;01mand\u001b[39;00m aggfunc \u001b[38;5;129;01mis\u001b[39;00m \u001b[38;5;28;01mNone\u001b[39;00m:\n\u001b[32m--> \u001b[39m\u001b[32m688\u001b[39m     \u001b[38;5;28;01mraise\u001b[39;00m \u001b[38;5;167;01mValueError\u001b[39;00m(\u001b[33m\"\u001b[39m\u001b[33mvalues cannot be used without an aggfunc.\u001b[39m\u001b[33m\"\u001b[39m)\n\u001b[32m    690\u001b[39m \u001b[38;5;28;01mif\u001b[39;00m \u001b[38;5;129;01mnot\u001b[39;00m is_nested_list_like(index):\n\u001b[32m    691\u001b[39m     index = [index]\n",
      "\u001b[31mValueError\u001b[39m: values cannot be used without an aggfunc."
     ]
    }
   ],
   "source": [
    "import matplotlib.pyplot as plt\n",
    "import seaborn as sns\n",
    "import pandas as pd\n",
    "import matplotlib.font_manager as fm\n",
    "\n",
    "data = {'Column 1': ['வரிசை 1', 'வரிசை 2', 'வரிசை 3'], \n",
    "        'Column 2': ['எண் 1', 'எண் 2', 'எண் 3'],\n",
    "        'Column 3': [10, 20, 30]} \n",
    "df = pd.DataFrame(data)\n",
    "\n",
    "font_names = [f.name for f in fm.fontManager.ttflist]\n",
    "print(font_names)\n",
    "\n",
    "plt.rcParams['font.family'] = 'Latha' # Replace 'Latha' with your font name\n",
    "heatmap = sns.heatmap(pd.crosstab(df['Column 1'], df['Column 2'], df['Column 3']), annot=True, fmt=\"d\")\n",
    "\n",
    "# Set labels with Tamil font\n",
    "heatmap.set_xlabel(\"எக்ஸ்-அச்சு\")\n",
    "heatmap.set_ylabel(\"ஒய்-அச்சு\")\n",
    "heatmap.set_title(\"வெப்ப வரைபடம்\")\n",
    "\n",
    "# Adjust font size of labels\n",
    "heatmap.set_xticklabels(heatmap.get_xticklabels(), fontsize=10)\n",
    "heatmap.set_yticklabels(heatmap.get_yticklabels(), fontsize=10)\n",
    "\n",
    "plt.show()"
   ]
  },
  {
   "cell_type": "code",
   "execution_count": 1,
   "metadata": {},
   "outputs": [
    {
     "name": "stdout",
     "output_type": "stream",
     "text": [
      "Available fonts: ['STIXSizeFiveSym', 'STIXSizeOneSym', 'STIXGeneral', 'STIXSizeThreeSym', 'cmex10', 'DejaVu Serif', 'STIXSizeOneSym', 'DejaVu Sans', 'DejaVu Sans', 'DejaVu Sans Mono', 'STIXSizeThreeSym', 'cmmi10', 'STIXGeneral', 'DejaVu Serif', 'STIXNonUnicode', 'DejaVu Sans Mono', 'cmsy10', 'DejaVu Sans', 'cmb10', 'STIXNonUnicode', 'STIXGeneral', 'DejaVu Serif', 'STIXSizeFourSym', 'DejaVu Sans Mono', 'STIXNonUnicode', 'STIXSizeTwoSym', 'STIXSizeFourSym', 'cmss10', 'DejaVu Sans', 'DejaVu Serif', 'STIXGeneral', 'cmr10', 'cmtt10', 'STIXNonUnicode', 'DejaVu Serif Display', 'DejaVu Sans Display', 'STIXSizeTwoSym', 'DejaVu Sans Mono', 'Georgia', 'Dubai', 'Linux Biolinum G', 'Rubik', 'Noto Sans Armenian', 'Lucida Handwriting', 'Microsoft PhagsPa', 'Book Antiqua', 'Leelawadee', 'Segoe UI Variable', 'Javanese Text', 'Liberation Sans', 'Arial', 'Frank Ruehl CLM', 'MT Extra', 'Gentium Basic', 'DejaVu Sans Mono', 'Arial', 'Segoe UI', 'Segoe UI Historic', 'Microsoft New Tai Lue', 'Gentium Basic', 'Comic Sans MS', 'DejaVu Sans', 'Frank Ruhl Hofshi', 'MS Gothic', 'Microsoft JhengHei', 'Yu Gothic', 'Courier New', 'DejaVu Serif', 'Wingdings 3', 'Cambria', 'Rubik', 'Noto Sans', 'Palatino Linotype', 'Gabriola', 'Amiri', 'Noto Serif Hebrew', 'Liberation Mono', 'Nirmala UI', 'Noto Serif', 'Calibri', 'Microsoft JhengHei', 'MS Reference Sans Serif', 'Gentium Book Basic', 'Liberation Sans Narrow', 'Nachlieli CLM', 'Constantia', 'Linux Libertine G', 'Wingdings 2', 'Microsoft JhengHei', 'SimSun', 'Corbel', 'Noto Serif', 'Nachlieli CLM', 'Noto Sans', 'DejaVu Sans', 'Segoe MDL2 Assets', 'Segoe UI', 'Noto Serif Hebrew', 'Noto Sans Lao', 'Verdana', 'Nirmala UI', 'DejaVu Sans', 'Candara', 'Webdings', 'DejaVu Math TeX Gyre', 'Liberation Serif', 'Miriam CLM', 'Linux Biolinum G', 'Linux Libertine G', 'Gentium Book Basic', 'Reem Kufi', 'Linux Biolinum G', 'Cambria', 'Nachlieli CLM', 'Book Antiqua', 'Segoe Script', 'Times New Roman', 'Miriam Libre', 'Lucida Sans Unicode', 'David CLM', 'Franklin Gothic Medium', 'Constantia', 'Leelawadee UI', 'Noto Serif Lao', 'Reem Kufi', 'Microsoft YaHei', 'David CLM', 'Noto Sans Lisu', 'Microsoft Sans Serif', 'Yu Gothic', 'Gadugi', 'Ink Free', 'Sans Serif Collection', 'Noto Serif Georgian', 'Candara', 'Linux Libertine G', 'DejaVu Serif', 'Noto Sans Arabic', 'DejaVu Serif', 'Caladea', 'Courier New', 'Noto Sans', 'Noto Sans Hebrew', 'Segoe Print', 'Noto Serif Lao', 'OpenSymbol', 'Candara', 'Segoe Print', 'Gentium Basic', 'DejaVu Sans', 'Frank Ruehl CLM', 'Scheherazade', 'Caladea', 'Amiri', 'Microsoft Yi Baiti', 'Comic Sans MS', 'Wingdings', 'Century Gothic', 'Gadugi', 'Noto Serif Armenian', 'Liberation Serif', 'Noto Serif', 'Segoe UI', 'DejaVu Serif', 'Noto Sans', 'Myanmar Text', 'DejaVu Sans', 'Sitka', 'Myanmar Text', 'Malgun Gothic', 'Times New Roman', 'David CLM', 'Bahnschrift', 'Nachlieli CLM', 'Arial', 'Comic Sans MS', 'Amiri Quran', 'Microsoft Himalaya', 'DejaVu Sans Mono', 'Calibri', 'Candara', 'Carlito', 'Century Gothic', 'Segoe UI', 'Carlito', 'Impact', 'DejaVu Serif', 'Yu Gothic', 'Mistral', 'Alef', 'Gentium Book Basic', 'Noto Serif Armenian', 'Caladea', 'Consolas', 'Alef', 'Frank Ruehl CLM', 'Century', 'David Libre', 'Franklin Gothic Medium', 'Segoe UI', 'Noto Sans Lao', 'Liberation Serif', 'Dubai', 'Liberation Mono', 'Constantia', 'Segoe UI Symbol', 'HoloLens MDL2 Assets', 'Liberation Serif', 'Cambria', 'Microsoft Uighur', 'Candara', 'Verdana', 'MV Boli', 'Palatino Linotype', 'Georgia', 'Liberation Mono', 'DejaVu Sans Mono', 'Malgun Gothic', 'Century Gothic', 'Consolas', 'Tahoma', 'Dubai', 'Leelawadee UI', 'Freestyle Script', 'DejaVu Sans Mono', 'Linux Libertine Display G', 'Trebuchet MS', 'Trebuchet MS', 'Sylfaen', 'Tempus Sans ITC', 'Candara', 'Dubai', 'Amiri', 'Noto Serif', 'Liberation Sans Narrow', 'Liberation Sans Narrow', 'Georgia', 'Gentium Book Basic', 'Segoe UI', 'Bookshelf Symbol 7', 'Noto Sans Hebrew', 'Liberation Sans', 'Segoe Fluent Icons', 'DejaVu Serif', 'David Libre', 'Sitka', 'Noto Kufi Arabic', 'Frank Ruhl Hofshi', 'Noto Sans Georgian', 'Juice ITC', 'Georgia', 'Trebuchet MS', 'Gentium Basic', 'Linux Libertine G', 'Lucida Console', 'Calibri', 'Consolas', 'Miriam Mono CLM', 'Segoe UI Emoji', 'Bradley Hand ITC', 'Liberation Sans', 'Microsoft Tai Le', 'Carlito', 'Yu Gothic', 'Segoe UI', 'Palatino Linotype', 'DejaVu Serif', 'DejaVu Serif', 'Microsoft YaHei', 'Arial', 'Courier New', 'Arial', 'Amiri', 'DejaVu Sans', 'Miriam Mono CLM', 'Liberation Mono', 'Palatino Linotype', 'Tahoma', 'French Script MT', 'Linux Libertine G', 'Calibri', 'Calibri', 'Microsoft Tai Le', 'Noto Naskh Arabic', 'Noto Serif Georgian', 'Nirmala UI', 'David CLM', 'Segoe Script', 'Noto Sans Lisu', 'Book Antiqua', 'DejaVu Sans', 'Papyrus', 'Book Antiqua', 'DejaVu Sans', 'Noto Sans Georgian', 'Trebuchet MS', 'Microsoft New Tai Lue', 'Comic Sans MS', 'Microsoft PhagsPa', 'Liberation Sans', 'Leelawadee UI', 'Calibri', 'Corbel', 'Rubik', 'Noto Sans Armenian', 'Noto Sans Arabic', 'Kristen ITC', 'Segoe UI', 'Segoe UI', 'Verdana', 'Consolas', 'Carlito', 'Verdana', 'Noto Kufi Arabic', 'Ebrima', 'Microsoft Uighur', 'Times New Roman', 'Ebrima', 'Linux Libertine G', 'Miriam Mono CLM', 'Microsoft YaHei', 'Symbol', 'Liberation Sans Narrow', 'Miriam Libre', 'Leelawadee', 'SimSun-ExtB', 'Caladea', 'Times New Roman', 'Segoe UI', 'Mongolian Baiti', 'MingLiU-ExtB', 'Segoe UI', 'Corbel', 'Rubik', 'Courier New', 'Corbel', 'Segoe UI', 'Noto Naskh Arabic', 'Century Gothic', 'Scheherazade', 'Cambria', 'Frank Ruehl CLM', 'Corbel', 'Constantia', 'Malgun Gothic', 'DejaVu Sans', 'Miriam CLM', 'MS Reference Specialty', 'Pristina', 'Corbel', 'Miriam Mono CLM']\n"
     ]
    }
   ],
   "source": [
    "import matplotlib.font_manager as fm\n",
    "font_names = [f.name for f in fm.fontManager.ttflist]\n",
    "print(\"Available fonts:\", font_names)"
   ]
  },
  {
   "cell_type": "code",
   "execution_count": 2,
   "metadata": {},
   "outputs": [
    {
     "data": {
      "text/plain": [
       "False"
      ]
     },
     "execution_count": 2,
     "metadata": {},
     "output_type": "execute_result"
    }
   ],
   "source": [
    "\"Tam\" in font_names"
   ]
  },
  {
   "cell_type": "code",
   "execution_count": null,
   "metadata": {},
   "outputs": [],
   "source": [
    "# (Devanagari, Nepali, Sanskrit, and Marathi Font)."
   ]
  }
 ],
 "metadata": {
  "kernelspec": {
   "display_name": "fastapi",
   "language": "python",
   "name": "python3"
  },
  "language_info": {
   "codemirror_mode": {
    "name": "ipython",
    "version": 3
   },
   "file_extension": ".py",
   "mimetype": "text/x-python",
   "name": "python",
   "nbconvert_exporter": "python",
   "pygments_lexer": "ipython3",
   "version": "3.11.11"
  }
 },
 "nbformat": 4,
 "nbformat_minor": 2
}
