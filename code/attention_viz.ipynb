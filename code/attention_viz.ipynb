{
 "cells": [
  {
   "cell_type": "code",
   "execution_count": 1,
   "metadata": {},
   "outputs": [],
   "source": [
    "from Config import Config\n",
    "from torch.utils.data import DataLoader\n",
    "import torch\n",
    "import wandb\n",
    "import gc\n",
    "from lightning.pytorch.loggers import WandbLogger\n",
    "import os\n",
    "from lightning import Trainer, seed_everything\n",
    "from dataloader import CustomTextDataset\n",
    "import argparse\n",
    "import pandas as pd\n",
    "from Seq2SeqModel import Seq2SeqModel\n",
    "import seaborn as sns\n",
    "import json\n",
    "from utils import decoder_function\n",
    "import torch.nn.functional as F"
   ]
  },
  {
   "cell_type": "code",
   "execution_count": 2,
   "metadata": {},
   "outputs": [],
   "source": [
    "## Dataloader\n",
    "TEST_BATCH_SIZE = 2\n",
    "device = torch.device(\"cuda\") if torch.cuda.is_available() else torch.device(\"cpu\")\n",
    "DATASET_PATH = os.path.join(\"..\",\"dataset\", \"dakshina_dataset_v1.0\", \"ta\", \"lexicons\")\n",
    "test_df = pd.read_csv(os.path.join(DATASET_PATH, \"ta.translit.sampled.test.idx.csv\"))\n",
    "\n",
    "with open(os.path.join(DATASET_PATH,\"tamil_token_index.json\"),'r', encoding=\"utf-8\") as f:\n",
    "\ttamil_idx = json.load(f)\n",
    "tamil_idx_to_char = {j:i for i,j in tamil_idx.items()}\n",
    "\n",
    "with open(os.path.join(DATASET_PATH,\"english_token_index.json\"),'r', encoding=\"utf-8\") as f:\n",
    "\tenglish_idx = json.load(f)\n",
    "english_idx_to_char = {j:i for i,j in english_idx.items()}\n",
    "\n",
    "english_idx_to_char[26] = \"-\"\n",
    "tamil_idx_to_char[48] = \"-\"\n",
    "\n",
    "\n",
    "config = Config()\n",
    "\n",
    "test_dataset = CustomTextDataset(\n",
    "        dataset_df=test_df,\n",
    "        X_max_length=config.X_max_length,\n",
    "        Y_max_length=config.Y_max_length,\n",
    "        X_vocab_size=config.X_vocab_size,\n",
    "        Y_vocab_size=config.Y_vocab_size,\n",
    "        X_padding_idx=config.X_padding_idx,\n",
    "        Y_padding_idx=config.Y_padding_idx,\n",
    "    )\n",
    "\n",
    "lit_model = Seq2SeqModel(config=config)"
   ]
  },
  {
   "cell_type": "code",
   "execution_count": 3,
   "metadata": {},
   "outputs": [
    {
     "name": "stdout",
     "output_type": "stream",
     "text": [
      "torch.Size([1, 30])\n",
      "faarm-------------------------\n",
      "ஃபார்ம்\n",
      "-------------------\n"
     ]
    }
   ],
   "source": [
    "X, Y_decoder_ip, Y_decoder_op, X_len, Y_decoder_ip_len, Y_decoder_op_len = test_dataset.__getitem__(0)\n",
    "\n",
    "X_native = decoder_function(character_idx_seq=','.join([str(i) for i in X.detach().numpy()]), idx_to_char_dict=english_idx_to_char)\n",
    "Y_native = decoder_function(character_idx_seq=','.join([str(i) for i in Y_decoder_op.detach().numpy()]), idx_to_char_dict=tamil_idx_to_char)\n",
    "\n",
    "\n",
    "\n",
    "X = torch.unsqueeze(X, 0).to(device)\n",
    "X_len = torch.unsqueeze(X_len, 0).to(device)\n",
    "Y_decoder_ip = torch.unsqueeze(Y_decoder_ip, 0).to(device)\n",
    "\n",
    "print(X.shape)\n",
    "print(X_native)\n",
    "print(Y_native)"
   ]
  },
  {
   "cell_type": "code",
   "execution_count": 4,
   "metadata": {},
   "outputs": [],
   "source": [
    "(logits, attn_weight_list) = lit_model(X, X_len, Y_decoder_ip)\n",
    "logits = logits.view(-1, logits.size(-1))\n",
    "prob = F.softmax(logits, dim=1)\n",
    "preds = torch.argmax(prob, dim=1)\n",
    "Y_pred_native = decoder_function(character_idx_seq=','.join([str(i) for i in preds.detach().numpy()]), idx_to_char_dict=tamil_idx_to_char)\n",
    "attn_weight_list = attn_weight_list.squeeze(0)# reshaped to [Y_max_len,X_max_len] #.permute(1,0) "
   ]
  },
  {
   "cell_type": "code",
   "execution_count": 5,
   "metadata": {},
   "outputs": [
    {
     "ename": "FileNotFoundError",
     "evalue": "[Errno 2] No such file or directory: 'C:\\\\Windows\\\\Fonts\\\\NotoSansTamil-Regular.ttf'",
     "output_type": "error",
     "traceback": [
      "\u001b[31m---------------------------------------------------------------------------\u001b[39m",
      "\u001b[31mFileNotFoundError\u001b[39m                         Traceback (most recent call last)",
      "\u001b[36mCell\u001b[39m\u001b[36m \u001b[39m\u001b[32mIn[5]\u001b[39m\u001b[32m, line 10\u001b[39m\n\u001b[32m      7\u001b[39m font_path = \u001b[33mr\u001b[39m\u001b[33m'\u001b[39m\u001b[33mC:\u001b[39m\u001b[33m\\\u001b[39m\u001b[33mWindows\u001b[39m\u001b[33m\\\u001b[39m\u001b[33mFonts\u001b[39m\u001b[33m\\\u001b[39m\u001b[33mNotoSansTamil-Regular.ttf\u001b[39m\u001b[33m'\u001b[39m\n\u001b[32m      8\u001b[39m \u001b[38;5;66;03m#C:\\Users\\yuvar\\AppData\\Local\\Microsoft\\Windows\\Fonts\u001b[39;00m\n\u001b[32m      9\u001b[39m \u001b[38;5;66;03m# Add font to Matplotlib\u001b[39;00m\n\u001b[32m---> \u001b[39m\u001b[32m10\u001b[39m \u001b[43mfont_manager\u001b[49m\u001b[43m.\u001b[49m\u001b[43mfontManager\u001b[49m\u001b[43m.\u001b[49m\u001b[43maddfont\u001b[49m\u001b[43m(\u001b[49m\u001b[43mfont_path\u001b[49m\u001b[43m)\u001b[49m\n\u001b[32m     12\u001b[39m \u001b[38;5;66;03m# Set font family\u001b[39;00m\n\u001b[32m     13\u001b[39m plt.rcParams[\u001b[33m'\u001b[39m\u001b[33mfont.family\u001b[39m\u001b[33m'\u001b[39m] = \u001b[33m'\u001b[39m\u001b[33mNoto Sans Tamil\u001b[39m\u001b[33m'\u001b[39m\n",
      "\u001b[36mFile \u001b[39m\u001b[32mc:\\Users\\yuvar\\miniconda3\\envs\\fastapi\\Lib\\site-packages\\matplotlib\\font_manager.py:1136\u001b[39m, in \u001b[36mFontManager.addfont\u001b[39m\u001b[34m(self, path)\u001b[39m\n\u001b[32m   1134\u001b[39m     \u001b[38;5;28mself\u001b[39m.afmlist.append(prop)\n\u001b[32m   1135\u001b[39m \u001b[38;5;28;01melse\u001b[39;00m:\n\u001b[32m-> \u001b[39m\u001b[32m1136\u001b[39m     font = \u001b[43mft2font\u001b[49m\u001b[43m.\u001b[49m\u001b[43mFT2Font\u001b[49m\u001b[43m(\u001b[49m\u001b[43mpath\u001b[49m\u001b[43m)\u001b[49m\n\u001b[32m   1137\u001b[39m     prop = ttfFontProperty(font)\n\u001b[32m   1138\u001b[39m     \u001b[38;5;28mself\u001b[39m.ttflist.append(prop)\n",
      "\u001b[31mFileNotFoundError\u001b[39m: [Errno 2] No such file or directory: 'C:\\\\Windows\\\\Fonts\\\\NotoSansTamil-Regular.ttf'"
     ]
    }
   ],
   "source": [
    "#attn_weight_list[:X_len.cpu().detach().numpy(),:Y_decoder_ip_len].cpu().detach().numpy()\n",
    "import matplotlib.pyplot as plt\n",
    "from matplotlib import font_manager\n",
    "\n",
    "#plt.rc('font', family='Vijaya')  # Or another Tamil-supporting font installed on your system\n",
    "# Path to your downloaded NotoSansTamil-Regular.ttf\n",
    "font_path = r'C:\\Windows\\Fonts\\NotoSansTamil-Regular.ttf'\n",
    "#C:\\Users\\yuvar\\AppData\\Local\\Microsoft\\Windows\\Fonts\n",
    "# Add font to Matplotlib\n",
    "font_manager.fontManager.addfont(font_path)\n",
    "\n",
    "# Set font family\n",
    "plt.rcParams['font.family'] = 'Noto Sans Tamil'\n",
    "data = attn_weight_list[:Y_decoder_ip_len,:X_len].detach().numpy()\n",
    "sns.heatmap(data, xticklabels=X_native[:X_len], yticklabels=Y_pred_native[:Y_decoder_ip_len])\n"
   ]
  },
  {
   "cell_type": "code",
   "execution_count": null,
   "metadata": {},
   "outputs": [],
   "source": []
  }
 ],
 "metadata": {
  "kernelspec": {
   "display_name": "fastapi",
   "language": "python",
   "name": "python3"
  },
  "language_info": {
   "codemirror_mode": {
    "name": "ipython",
    "version": 3
   },
   "file_extension": ".py",
   "mimetype": "text/x-python",
   "name": "python",
   "nbconvert_exporter": "python",
   "pygments_lexer": "ipython3",
   "version": "3.11.11"
  }
 },
 "nbformat": 4,
 "nbformat_minor": 2
}
