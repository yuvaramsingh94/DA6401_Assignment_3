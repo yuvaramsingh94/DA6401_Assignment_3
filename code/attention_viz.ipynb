{
 "cells": [
  {
   "cell_type": "code",
   "execution_count": 3,
   "metadata": {},
   "outputs": [],
   "source": [
    "from Config import Config\n",
    "from torch.utils.data import DataLoader\n",
    "import torch\n",
    "import wandb\n",
    "import gc\n",
    "import torch.nn.functional as F\n",
    "from lightning.pytorch.loggers import WandbLogger\n",
    "import os\n",
    "from lightning import Trainer, seed_everything\n",
    "from dataloader import CustomTextDataset\n",
    "import argparse\n",
    "import pandas as pd\n",
    "from Seq2SeqModel import Seq2SeqModel\n",
    "import seaborn as sns\n",
    "import json\n",
    "from utils import decoder_function\n",
    "from tqdm import tqdm"
   ]
  },
  {
   "cell_type": "code",
   "execution_count": 4,
   "metadata": {},
   "outputs": [],
   "source": [
    "## Dataloader\n",
    "TEST_BATCH_SIZE = 2\n",
    "device = torch.device(\"cuda\") if torch.cuda.is_available() else torch.device(\"cpu\")\n",
    "DATASET_PATH = os.path.join(\"..\",\"dataset\", \"dakshina_dataset_v1.0\", \"ta\", \"lexicons\")\n",
    "test_df = pd.read_csv(os.path.join(DATASET_PATH, \"ta.translit.sampled.test.idx.csv\"))\n",
    "\n",
    "with open(os.path.join(DATASET_PATH,\"tamil_token_index.json\"),'r', encoding=\"utf-8\") as f:\n",
    "\ttamil_idx = json.load(f)\n",
    "tamil_idx_to_char = {j:i for i,j in tamil_idx.items()}\n",
    "\n",
    "with open(os.path.join(DATASET_PATH,\"english_token_index.json\"),'r', encoding=\"utf-8\") as f:\n",
    "\tenglish_idx = json.load(f)\n",
    "english_idx_to_char = {j:i for i,j in english_idx.items()}\n",
    "\n",
    "english_idx_to_char[26] = \"-\"\n",
    "tamil_idx_to_char[48] = \"-\"\n",
    "\n",
    "\n",
    "config = Config()\n",
    "\n",
    "test_dataset = CustomTextDataset(\n",
    "        dataset_df=test_df[:3],\n",
    "        X_max_length=config.X_max_length,\n",
    "        Y_max_length=config.Y_max_length,\n",
    "        X_vocab_size=config.X_vocab_size,\n",
    "        Y_vocab_size=config.Y_vocab_size,\n",
    "        X_padding_idx=config.X_padding_idx,\n",
    "        Y_padding_idx=config.Y_padding_idx,\n",
    "    )\n",
    "\n",
    "lit_model = Seq2SeqModel(config=config)"
   ]
  },
  {
   "cell_type": "code",
   "execution_count": 26,
   "metadata": {},
   "outputs": [
    {
     "name": "stdout",
     "output_type": "stream",
     "text": [
      "torch.Size([1, 30])\n"
     ]
    }
   ],
   "source": [
    "X, Y_decoder_ip, Y_decoder_op, X_len, Y_decoder_ip_len, Y_decoder_op_len = test_dataset.__getitem__(0)\n",
    "\n",
    "X_native = decoder_function(character_idx_seq=','.join([str(i) for i in X.detach().numpy()]), idx_to_char_dict=english_idx_to_char)\n",
    "Y_native = decoder_function(character_idx_seq=','.join([str(i) for i in Y_decoder_op.detach().numpy()]), idx_to_char_dict=tamil_idx_to_char)\n",
    "\n",
    "\n",
    "X = torch.unsqueeze(X, 0).to(device)\n",
    "X_len = torch.unsqueeze(X_len, 0).to(device)\n",
    "Y_decoder_ip = torch.unsqueeze(Y_decoder_ip, 0).to(device)\n",
    "\n",
    "print(X.shape)"
   ]
  },
  {
   "cell_type": "code",
   "execution_count": 39,
   "metadata": {},
   "outputs": [
    {
     "data": {
      "text/plain": [
       "tensor(7, dtype=torch.int32)"
      ]
     },
     "execution_count": 39,
     "metadata": {},
     "output_type": "execute_result"
    }
   ],
   "source": [
    "Y_decoder_op_len"
   ]
  },
  {
   "cell_type": "code",
   "execution_count": 10,
   "metadata": {},
   "outputs": [
    {
     "data": {
      "text/plain": [
       "torch.Size([1, 27])"
      ]
     },
     "execution_count": 10,
     "metadata": {},
     "output_type": "execute_result"
    }
   ],
   "source": [
    "Y_decoder_ip.shape"
   ]
  },
  {
   "cell_type": "code",
   "execution_count": 5,
   "metadata": {},
   "outputs": [],
   "source": [
    "(logits, attn_weight_list) = lit_model(X, X_len, Y_decoder_ip)\n",
    "attn_weight_list = attn_weight_list.squeeze(0).permute(1,0) # reshaped to [X_max_len, Y_max_len]"
   ]
  },
  {
   "cell_type": "markdown",
   "metadata": {},
   "source": [
    "## Make an inference code where it iteratively go over the decoder"
   ]
  },
  {
   "cell_type": "code",
   "execution_count": 5,
   "metadata": {},
   "outputs": [
    {
     "name": "stderr",
     "output_type": "stream",
     "text": [
      "  0%|          | 0/3 [00:00<?, ?it/s]"
     ]
    },
    {
     "name": "stderr",
     "output_type": "stream",
     "text": [
      "100%|██████████| 3/3 [00:06<00:00,  2.32s/it]"
     ]
    },
    {
     "name": "stdout",
     "output_type": "stream",
     "text": [
      "Test accuracy 0.0\n"
     ]
    },
    {
     "name": "stderr",
     "output_type": "stream",
     "text": [
      "\n"
     ]
    }
   ],
   "source": [
    "## batch size = 1 for now\n",
    "## Iterate only for the actual decoder length. this will reduce the computation\n",
    "test_correct_prediction_count = 0\n",
    "## TODO For loop over the test data. individual samples\n",
    "\n",
    "for idx in tqdm(range(len(test_dataset))):\n",
    "    X, Y_decoder_ip, Y_decoder_op, X_len, Y_decoder_ip_len, Y_decoder_op_len = test_dataset.__getitem__(idx)\n",
    "    X = torch.unsqueeze(X, 0).to(device)\n",
    "    X_len = torch.unsqueeze(X_len, 0).to(device)\n",
    "    Y_decoder_ip = torch.unsqueeze(Y_decoder_ip, 0).to(device)\n",
    "    prediction_list = []\n",
    "    for i in range(1,Y_decoder_op_len + 1): ## get the len of the decoder input \n",
    "        new_decoder_ip = torch.unsqueeze(torch.cat([Y_decoder_ip[0][:i],  torch.tensor([config.Y_padding_idx]*(config.Y_max_length - i))]),axis = 0)\n",
    "\n",
    "        ## Prediction\n",
    "        (logits, attn_weight_list) = lit_model(X, X_len, new_decoder_ip)\n",
    "        logits2 = logits.view(-1, logits.size(-1))\n",
    "        prob = F.softmax(logits2, dim=1)\n",
    "        preds = torch.argmax(prob, dim=1)\n",
    "        prediction_list.append(torch.unsqueeze(preds[i], dim=0))\n",
    "\n",
    "    prediction_tensor = torch.cat(prediction_list)\n",
    "    correct = prediction_tensor == Y_decoder_op[:Y_decoder_op_len]\n",
    "    if torch.all(correct):\n",
    "        test_correct_prediction_count += 1\n",
    "    else:\n",
    "        test_correct_prediction_count += 0\n",
    "\n",
    "test_accuracy = test_correct_prediction_count / len(test_dataset)\n",
    "print(\"Test accuracy\",test_accuracy)"
   ]
  },
  {
   "cell_type": "code",
   "execution_count": 6,
   "metadata": {},
   "outputs": [
    {
     "data": {
      "text/plain": [
       "0"
      ]
     },
     "execution_count": 6,
     "metadata": {},
     "output_type": "execute_result"
    }
   ],
   "source": [
    "test_correct_prediction_count"
   ]
  },
  {
   "cell_type": "code",
   "execution_count": 16,
   "metadata": {},
   "outputs": [
    {
     "name": "stdout",
     "output_type": "stream",
     "text": [
      "tensor([1.0000, 1.0000, 1.0000, 1.0000, 1.0000, 1.0000, 1.0000, 1.0000, 1.0000,\n",
      "        1.0000, 1.0000, 1.0000, 1.0000, 1.0000, 1.0000, 1.0000, 1.0000, 1.0000,\n",
      "        1.0000, 1.0000, 1.0000, 1.0000, 1.0000, 1.0000, 1.0000, 1.0000, 1.0000],\n",
      "       grad_fn=<SumBackward1>) torch.Size([27])\n"
     ]
    }
   ],
   "source": [
    "print(prob.sum(dim=1),prob.sum(dim=1).shape)"
   ]
  },
  {
   "cell_type": "code",
   "execution_count": 20,
   "metadata": {},
   "outputs": [
    {
     "data": {
      "text/plain": [
       "tensor([0.0213, 0.0217, 0.0199, 0.0198, 0.0199, 0.0204, 0.0218, 0.0210, 0.0203,\n",
       "        0.0215, 0.0208, 0.0200, 0.0208, 0.0203, 0.0210, 0.0205, 0.0207, 0.0222,\n",
       "        0.0204, 0.0216, 0.0212, 0.0209, 0.0214, 0.0205, 0.0210, 0.0219, 0.0200,\n",
       "        0.0207, 0.0211, 0.0202, 0.0200, 0.0202, 0.0211, 0.0214, 0.0201, 0.0203,\n",
       "        0.0204, 0.0209, 0.0217, 0.0214, 0.0218, 0.0209, 0.0211, 0.0205, 0.0213,\n",
       "        0.0208, 0.0202, 0.0210], grad_fn=<SelectBackward0>)"
      ]
     },
     "execution_count": 20,
     "metadata": {},
     "output_type": "execute_result"
    }
   ],
   "source": [
    "prob[0]"
   ]
  },
  {
   "cell_type": "code",
   "execution_count": 23,
   "metadata": {},
   "outputs": [
    {
     "data": {
      "text/plain": [
       "tensor([17, 17, 17,  6,  6,  6, 38, 38, 38, 17, 17, 17, 17, 17, 17,  1,  1,  1,\n",
       "         1,  1,  1,  1,  1,  1,  1,  1,  1])"
      ]
     },
     "execution_count": 23,
     "metadata": {},
     "output_type": "execute_result"
    }
   ],
   "source": [
    "preds"
   ]
  },
  {
   "cell_type": "code",
   "execution_count": 60,
   "metadata": {},
   "outputs": [
    {
     "name": "stderr",
     "output_type": "stream",
     "text": [
      "c:\\Users\\yuvar\\miniconda3\\envs\\fastapi\\Lib\\site-packages\\seaborn\\utils.py:61: UserWarning: Glyph 2947 (\\N{TAMIL SIGN VISARGA}) missing from font(s) DejaVu Sans.\n",
      "  fig.canvas.draw()\n",
      "c:\\Users\\yuvar\\miniconda3\\envs\\fastapi\\Lib\\site-packages\\seaborn\\utils.py:61: UserWarning: Matplotlib currently does not support Tamil natively.\n",
      "  fig.canvas.draw()\n",
      "c:\\Users\\yuvar\\miniconda3\\envs\\fastapi\\Lib\\site-packages\\seaborn\\utils.py:61: UserWarning: Glyph 2986 (\\N{TAMIL LETTER PA}) missing from font(s) DejaVu Sans.\n",
      "  fig.canvas.draw()\n",
      "c:\\Users\\yuvar\\miniconda3\\envs\\fastapi\\Lib\\site-packages\\seaborn\\utils.py:61: UserWarning: Glyph 3006 (\\N{TAMIL VOWEL SIGN AA}) missing from font(s) DejaVu Sans.\n",
      "  fig.canvas.draw()\n",
      "c:\\Users\\yuvar\\miniconda3\\envs\\fastapi\\Lib\\site-packages\\seaborn\\utils.py:61: UserWarning: Glyph 2992 (\\N{TAMIL LETTER RA}) missing from font(s) DejaVu Sans.\n",
      "  fig.canvas.draw()\n",
      "c:\\Users\\yuvar\\miniconda3\\envs\\fastapi\\Lib\\site-packages\\seaborn\\utils.py:61: UserWarning: Glyph 3021 (\\N{TAMIL SIGN VIRAMA}) missing from font(s) DejaVu Sans.\n",
      "  fig.canvas.draw()\n",
      "c:\\Users\\yuvar\\miniconda3\\envs\\fastapi\\Lib\\site-packages\\seaborn\\utils.py:61: UserWarning: Glyph 2990 (\\N{TAMIL LETTER MA}) missing from font(s) DejaVu Sans.\n",
      "  fig.canvas.draw()\n"
     ]
    },
    {
     "data": {
      "text/plain": [
       "<Axes: >"
      ]
     },
     "execution_count": 60,
     "metadata": {},
     "output_type": "execute_result"
    },
    {
     "name": "stderr",
     "output_type": "stream",
     "text": [
      "c:\\Users\\yuvar\\miniconda3\\envs\\fastapi\\Lib\\site-packages\\IPython\\core\\events.py:82: UserWarning: Glyph 2947 (\\N{TAMIL SIGN VISARGA}) missing from font(s) DejaVu Sans.\n",
      "  func(*args, **kwargs)\n",
      "c:\\Users\\yuvar\\miniconda3\\envs\\fastapi\\Lib\\site-packages\\IPython\\core\\events.py:82: UserWarning: Matplotlib currently does not support Tamil natively.\n",
      "  func(*args, **kwargs)\n",
      "c:\\Users\\yuvar\\miniconda3\\envs\\fastapi\\Lib\\site-packages\\IPython\\core\\events.py:82: UserWarning: Glyph 2986 (\\N{TAMIL LETTER PA}) missing from font(s) DejaVu Sans.\n",
      "  func(*args, **kwargs)\n",
      "c:\\Users\\yuvar\\miniconda3\\envs\\fastapi\\Lib\\site-packages\\IPython\\core\\events.py:82: UserWarning: Glyph 3006 (\\N{TAMIL VOWEL SIGN AA}) missing from font(s) DejaVu Sans.\n",
      "  func(*args, **kwargs)\n",
      "c:\\Users\\yuvar\\miniconda3\\envs\\fastapi\\Lib\\site-packages\\IPython\\core\\events.py:82: UserWarning: Glyph 2992 (\\N{TAMIL LETTER RA}) missing from font(s) DejaVu Sans.\n",
      "  func(*args, **kwargs)\n",
      "c:\\Users\\yuvar\\miniconda3\\envs\\fastapi\\Lib\\site-packages\\IPython\\core\\events.py:82: UserWarning: Glyph 3021 (\\N{TAMIL SIGN VIRAMA}) missing from font(s) DejaVu Sans.\n",
      "  func(*args, **kwargs)\n",
      "c:\\Users\\yuvar\\miniconda3\\envs\\fastapi\\Lib\\site-packages\\IPython\\core\\events.py:82: UserWarning: Glyph 2990 (\\N{TAMIL LETTER MA}) missing from font(s) DejaVu Sans.\n",
      "  func(*args, **kwargs)\n",
      "c:\\Users\\yuvar\\miniconda3\\envs\\fastapi\\Lib\\site-packages\\IPython\\core\\pylabtools.py:170: UserWarning: Glyph 2947 (\\N{TAMIL SIGN VISARGA}) missing from font(s) DejaVu Sans.\n",
      "  fig.canvas.print_figure(bytes_io, **kw)\n",
      "c:\\Users\\yuvar\\miniconda3\\envs\\fastapi\\Lib\\site-packages\\IPython\\core\\pylabtools.py:170: UserWarning: Matplotlib currently does not support Tamil natively.\n",
      "  fig.canvas.print_figure(bytes_io, **kw)\n",
      "c:\\Users\\yuvar\\miniconda3\\envs\\fastapi\\Lib\\site-packages\\IPython\\core\\pylabtools.py:170: UserWarning: Glyph 2986 (\\N{TAMIL LETTER PA}) missing from font(s) DejaVu Sans.\n",
      "  fig.canvas.print_figure(bytes_io, **kw)\n",
      "c:\\Users\\yuvar\\miniconda3\\envs\\fastapi\\Lib\\site-packages\\IPython\\core\\pylabtools.py:170: UserWarning: Glyph 3006 (\\N{TAMIL VOWEL SIGN AA}) missing from font(s) DejaVu Sans.\n",
      "  fig.canvas.print_figure(bytes_io, **kw)\n",
      "c:\\Users\\yuvar\\miniconda3\\envs\\fastapi\\Lib\\site-packages\\IPython\\core\\pylabtools.py:170: UserWarning: Glyph 2992 (\\N{TAMIL LETTER RA}) missing from font(s) DejaVu Sans.\n",
      "  fig.canvas.print_figure(bytes_io, **kw)\n",
      "c:\\Users\\yuvar\\miniconda3\\envs\\fastapi\\Lib\\site-packages\\IPython\\core\\pylabtools.py:170: UserWarning: Glyph 3021 (\\N{TAMIL SIGN VIRAMA}) missing from font(s) DejaVu Sans.\n",
      "  fig.canvas.print_figure(bytes_io, **kw)\n",
      "c:\\Users\\yuvar\\miniconda3\\envs\\fastapi\\Lib\\site-packages\\IPython\\core\\pylabtools.py:170: UserWarning: Glyph 2990 (\\N{TAMIL LETTER MA}) missing from font(s) DejaVu Sans.\n",
      "  fig.canvas.print_figure(bytes_io, **kw)\n"
     ]
    },
    {
     "data": {
      "image/png": "[encoded data removed]",
      "text/plain": [
       "<Figure size 640x480 with 2 Axes>"
      ]
     },
     "metadata": {},
     "output_type": "display_data"
    }
   ],
   "source": [
    "#attn_weight_list[:X_len.cpu().detach().numpy(),:Y_decoder_ip_len].cpu().detach().numpy()\n",
    "data = attn_weight_list[:X_len,:Y_decoder_ip_len].detach().numpy()\n",
    "sns.heatmap(data, xticklabels=Y_native[:Y_decoder_ip_len], yticklabels=X_native[:X_len])\n"
   ]
  },
  {
   "cell_type": "code",
   "execution_count": 1,
   "metadata": {},
   "outputs": [
    {
     "name": "stdout",
     "output_type": "stream",
     "text": [
      "['STIXSizeFiveSym', 'STIXSizeOneSym', 'STIXGeneral', 'STIXSizeThreeSym', 'cmex10', 'DejaVu Serif', 'STIXSizeOneSym', 'DejaVu Sans', 'DejaVu Sans', 'DejaVu Sans Mono', 'STIXSizeThreeSym', 'cmmi10', 'STIXGeneral', 'DejaVu Serif', 'STIXNonUnicode', 'DejaVu Sans Mono', 'cmsy10', 'DejaVu Sans', 'cmb10', 'STIXNonUnicode', 'STIXGeneral', 'DejaVu Serif', 'STIXSizeFourSym', 'DejaVu Sans Mono', 'STIXNonUnicode', 'STIXSizeTwoSym', 'STIXSizeFourSym', 'cmss10', 'DejaVu Sans', 'DejaVu Serif', 'STIXGeneral', 'cmr10', 'cmtt10', 'STIXNonUnicode', 'DejaVu Serif Display', 'DejaVu Sans Display', 'STIXSizeTwoSym', 'DejaVu Sans Mono', 'Georgia', 'Dubai', 'Linux Biolinum G', 'Rubik', 'Noto Sans Armenian', 'Lucida Handwriting', 'Microsoft PhagsPa', 'Book Antiqua', 'Leelawadee', 'Segoe UI Variable', 'Javanese Text', 'Liberation Sans', 'Arial', 'Frank Ruehl CLM', 'MT Extra', 'Gentium Basic', 'DejaVu Sans Mono', 'Arial', 'Segoe UI', 'Segoe UI Historic', 'Microsoft New Tai Lue', 'Gentium Basic', 'Comic Sans MS', 'DejaVu Sans', 'Frank Ruhl Hofshi', 'MS Gothic', 'Microsoft JhengHei', 'Yu Gothic', 'Courier New', 'DejaVu Serif', 'Wingdings 3', 'Cambria', 'Rubik', 'Noto Sans', 'Palatino Linotype', 'Gabriola', 'Amiri', 'Noto Serif Hebrew', 'Liberation Mono', 'Nirmala UI', 'Noto Serif', 'Calibri', 'Microsoft JhengHei', 'MS Reference Sans Serif', 'Gentium Book Basic', 'Liberation Sans Narrow', 'Nachlieli CLM', 'Constantia', 'Linux Libertine G', 'Wingdings 2', 'Microsoft JhengHei', 'SimSun', 'Corbel', 'Noto Serif', 'Nachlieli CLM', 'Noto Sans', 'DejaVu Sans', 'Segoe MDL2 Assets', 'Segoe UI', 'Noto Serif Hebrew', 'Noto Sans Lao', 'Verdana', 'Nirmala UI', 'DejaVu Sans', 'Candara', 'Webdings', 'DejaVu Math TeX Gyre', 'Liberation Serif', 'Miriam CLM', 'Linux Biolinum G', 'Linux Libertine G', 'Gentium Book Basic', 'Reem Kufi', 'Linux Biolinum G', 'Cambria', 'Nachlieli CLM', 'Book Antiqua', 'Segoe Script', 'Times New Roman', 'Miriam Libre', 'Lucida Sans Unicode', 'David CLM', 'Franklin Gothic Medium', 'Constantia', 'Leelawadee UI', 'Noto Serif Lao', 'Reem Kufi', 'Microsoft YaHei', 'David CLM', 'Noto Sans Lisu', 'Microsoft Sans Serif', 'Yu Gothic', 'Gadugi', 'Ink Free', 'Sans Serif Collection', 'Noto Serif Georgian', 'Candara', 'Linux Libertine G', 'DejaVu Serif', 'Noto Sans Arabic', 'DejaVu Serif', 'Caladea', 'Courier New', 'Noto Sans', 'Noto Sans Hebrew', 'Segoe Print', 'Noto Serif Lao', 'OpenSymbol', 'Candara', 'Segoe Print', 'Gentium Basic', 'DejaVu Sans', 'Frank Ruehl CLM', 'Scheherazade', 'Caladea', 'Amiri', 'Microsoft Yi Baiti', 'Comic Sans MS', 'Wingdings', 'Century Gothic', 'Gadugi', 'Noto Serif Armenian', 'Liberation Serif', 'Noto Serif', 'Segoe UI', 'DejaVu Serif', 'Noto Sans', 'Myanmar Text', 'DejaVu Sans', 'Sitka', 'Myanmar Text', 'Malgun Gothic', 'Times New Roman', 'David CLM', 'Bahnschrift', 'Nachlieli CLM', 'Arial', 'Comic Sans MS', 'Amiri Quran', 'Microsoft Himalaya', 'DejaVu Sans Mono', 'Calibri', 'Candara', 'Carlito', 'Century Gothic', 'Segoe UI', 'Carlito', 'Impact', 'DejaVu Serif', 'Yu Gothic', 'Mistral', 'Alef', 'Gentium Book Basic', 'Noto Serif Armenian', 'Caladea', 'Consolas', 'Alef', 'Frank Ruehl CLM', 'Century', 'David Libre', 'Franklin Gothic Medium', 'Segoe UI', 'Noto Sans Lao', 'Liberation Serif', 'Dubai', 'Liberation Mono', 'Constantia', 'Segoe UI Symbol', 'HoloLens MDL2 Assets', 'Liberation Serif', 'Cambria', 'Microsoft Uighur', 'Candara', 'Verdana', 'MV Boli', 'Palatino Linotype', 'Georgia', 'Liberation Mono', 'DejaVu Sans Mono', 'Malgun Gothic', 'Century Gothic', 'Consolas', 'Tahoma', 'Dubai', 'Leelawadee UI', 'Freestyle Script', 'DejaVu Sans Mono', 'Linux Libertine Display G', 'Trebuchet MS', 'Trebuchet MS', 'Sylfaen', 'Tempus Sans ITC', 'Candara', 'Dubai', 'Amiri', 'Noto Serif', 'Liberation Sans Narrow', 'Liberation Sans Narrow', 'Georgia', 'Gentium Book Basic', 'Segoe UI', 'Bookshelf Symbol 7', 'Noto Sans Hebrew', 'Liberation Sans', 'Segoe Fluent Icons', 'DejaVu Serif', 'David Libre', 'Sitka', 'Noto Kufi Arabic', 'Frank Ruhl Hofshi', 'Noto Sans Georgian', 'Juice ITC', 'Georgia', 'Trebuchet MS', 'Gentium Basic', 'Linux Libertine G', 'Lucida Console', 'Calibri', 'Consolas', 'Miriam Mono CLM', 'Segoe UI Emoji', 'Bradley Hand ITC', 'Liberation Sans', 'Microsoft Tai Le', 'Carlito', 'Yu Gothic', 'Segoe UI', 'Palatino Linotype', 'DejaVu Serif', 'DejaVu Serif', 'Microsoft YaHei', 'Arial', 'Courier New', 'Arial', 'Amiri', 'DejaVu Sans', 'Miriam Mono CLM', 'Liberation Mono', 'Palatino Linotype', 'Tahoma', 'French Script MT', 'Linux Libertine G', 'Calibri', 'Calibri', 'Microsoft Tai Le', 'Noto Naskh Arabic', 'Noto Serif Georgian', 'Nirmala UI', 'David CLM', 'Segoe Script', 'Noto Sans Lisu', 'Book Antiqua', 'DejaVu Sans', 'Papyrus', 'Book Antiqua', 'DejaVu Sans', 'Noto Sans Georgian', 'Trebuchet MS', 'Microsoft New Tai Lue', 'Comic Sans MS', 'Microsoft PhagsPa', 'Liberation Sans', 'Leelawadee UI', 'Calibri', 'Corbel', 'Rubik', 'Noto Sans Armenian', 'Noto Sans Arabic', 'Kristen ITC', 'Segoe UI', 'Segoe UI', 'Verdana', 'Consolas', 'Carlito', 'Verdana', 'Noto Kufi Arabic', 'Ebrima', 'Microsoft Uighur', 'Times New Roman', 'Ebrima', 'Linux Libertine G', 'Miriam Mono CLM', 'Microsoft YaHei', 'Symbol', 'Liberation Sans Narrow', 'Miriam Libre', 'Leelawadee', 'SimSun-ExtB', 'Caladea', 'Times New Roman', 'Segoe UI', 'Mongolian Baiti', 'MingLiU-ExtB', 'Segoe UI', 'Corbel', 'Rubik', 'Courier New', 'Corbel', 'Segoe UI', 'Noto Naskh Arabic', 'Century Gothic', 'Scheherazade', 'Cambria', 'Frank Ruehl CLM', 'Corbel', 'Constantia', 'Malgun Gothic', 'DejaVu Sans', 'Miriam CLM', 'MS Reference Specialty', 'Pristina', 'Corbel', 'Miriam Mono CLM']\n"
     ]
    },
    {
     "ename": "ValueError",
     "evalue": "values cannot be used without an aggfunc.",
     "output_type": "error",
     "traceback": [
      "\u001b[31m---------------------------------------------------------------------------\u001b[39m",
      "\u001b[31mValueError\u001b[39m                                Traceback (most recent call last)",
      "\u001b[36mCell\u001b[39m\u001b[36m \u001b[39m\u001b[32mIn[1]\u001b[39m\u001b[32m, line 15\u001b[39m\n\u001b[32m     12\u001b[39m \u001b[38;5;28mprint\u001b[39m(font_names)\n\u001b[32m     14\u001b[39m plt.rcParams[\u001b[33m'\u001b[39m\u001b[33mfont.family\u001b[39m\u001b[33m'\u001b[39m] = \u001b[33m'\u001b[39m\u001b[33mLatha\u001b[39m\u001b[33m'\u001b[39m \u001b[38;5;66;03m# Replace 'Latha' with your font name\u001b[39;00m\n\u001b[32m---> \u001b[39m\u001b[32m15\u001b[39m heatmap = sns.heatmap(\u001b[43mpd\u001b[49m\u001b[43m.\u001b[49m\u001b[43mcrosstab\u001b[49m\u001b[43m(\u001b[49m\u001b[43mdf\u001b[49m\u001b[43m[\u001b[49m\u001b[33;43m'\u001b[39;49m\u001b[33;43mColumn 1\u001b[39;49m\u001b[33;43m'\u001b[39;49m\u001b[43m]\u001b[49m\u001b[43m,\u001b[49m\u001b[43m \u001b[49m\u001b[43mdf\u001b[49m\u001b[43m[\u001b[49m\u001b[33;43m'\u001b[39;49m\u001b[33;43mColumn 2\u001b[39;49m\u001b[33;43m'\u001b[39;49m\u001b[43m]\u001b[49m\u001b[43m,\u001b[49m\u001b[43m \u001b[49m\u001b[43mdf\u001b[49m\u001b[43m[\u001b[49m\u001b[33;43m'\u001b[39;49m\u001b[33;43mColumn 3\u001b[39;49m\u001b[33;43m'\u001b[39;49m\u001b[43m]\u001b[49m\u001b[43m)\u001b[49m, annot=\u001b[38;5;28;01mTrue\u001b[39;00m, fmt=\u001b[33m\"\u001b[39m\u001b[33md\u001b[39m\u001b[33m\"\u001b[39m)\n\u001b[32m     17\u001b[39m \u001b[38;5;66;03m# Set labels with Tamil font\u001b[39;00m\n\u001b[32m     18\u001b[39m heatmap.set_xlabel(\u001b[33m\"\u001b[39m\u001b[33mஎக்ஸ்-அச்சு\u001b[39m\u001b[33m\"\u001b[39m)\n",
      "\u001b[36mFile \u001b[39m\u001b[32mc:\\Users\\yuvar\\miniconda3\\envs\\fastapi\\Lib\\site-packages\\pandas\\core\\reshape\\pivot.py:688\u001b[39m, in \u001b[36mcrosstab\u001b[39m\u001b[34m(index, columns, values, rownames, colnames, aggfunc, margins, margins_name, dropna, normalize)\u001b[39m\n\u001b[32m    685\u001b[39m     \u001b[38;5;28;01mraise\u001b[39;00m \u001b[38;5;167;01mValueError\u001b[39;00m(\u001b[33m\"\u001b[39m\u001b[33maggfunc cannot be used without values.\u001b[39m\u001b[33m\"\u001b[39m)\n\u001b[32m    687\u001b[39m \u001b[38;5;28;01mif\u001b[39;00m values \u001b[38;5;129;01mis\u001b[39;00m \u001b[38;5;129;01mnot\u001b[39;00m \u001b[38;5;28;01mNone\u001b[39;00m \u001b[38;5;129;01mand\u001b[39;00m aggfunc \u001b[38;5;129;01mis\u001b[39;00m \u001b[38;5;28;01mNone\u001b[39;00m:\n\u001b[32m--> \u001b[39m\u001b[32m688\u001b[39m     \u001b[38;5;28;01mraise\u001b[39;00m \u001b[38;5;167;01mValueError\u001b[39;00m(\u001b[33m\"\u001b[39m\u001b[33mvalues cannot be used without an aggfunc.\u001b[39m\u001b[33m\"\u001b[39m)\n\u001b[32m    690\u001b[39m \u001b[38;5;28;01mif\u001b[39;00m \u001b[38;5;129;01mnot\u001b[39;00m is_nested_list_like(index):\n\u001b[32m    691\u001b[39m     index = [index]\n",
      "\u001b[31mValueError\u001b[39m: values cannot be used without an aggfunc."
     ]
    }
   ],
   "source": [
    "import matplotlib.pyplot as plt\n",
    "import seaborn as sns\n",
    "import pandas as pd\n",
    "import matplotlib.font_manager as fm\n",
    "\n",
    "data = {'Column 1': ['வரிசை 1', 'வரிசை 2', 'வரிசை 3'], \n",
    "        'Column 2': ['எண் 1', 'எண் 2', 'எண் 3'],\n",
    "        'Column 3': [10, 20, 30]} \n",
    "df = pd.DataFrame(data)\n",
    "\n",
    "font_names = [f.name for f in fm.fontManager.ttflist]\n",
    "print(font_names)\n",
    "\n",
    "plt.rcParams['font.family'] = 'Latha' # Replace 'Latha' with your font name\n",
    "heatmap = sns.heatmap(pd.crosstab(df['Column 1'], df['Column 2'], df['Column 3']), annot=True, fmt=\"d\")\n",
    "\n",
    "# Set labels with Tamil font\n",
    "heatmap.set_xlabel(\"எக்ஸ்-அச்சு\")\n",
    "heatmap.set_ylabel(\"ஒய்-அச்சு\")\n",
    "heatmap.set_title(\"வெப்ப வரைபடம்\")\n",
    "\n",
    "# Adjust font size of labels\n",
    "heatmap.set_xticklabels(heatmap.get_xticklabels(), fontsize=10)\n",
    "heatmap.set_yticklabels(heatmap.get_yticklabels(), fontsize=10)\n",
    "\n",
    "plt.show()"
   ]
  },
  {
   "cell_type": "code",
   "execution_count": 1,
   "metadata": {},
   "outputs": [
    {
     "name": "stdout",
     "output_type": "stream",
     "text": [
      "Available fonts: ['STIXSizeFiveSym', 'STIXSizeOneSym', 'STIXGeneral', 'STIXSizeThreeSym', 'cmex10', 'DejaVu Serif', 'STIXSizeOneSym', 'DejaVu Sans', 'DejaVu Sans', 'DejaVu Sans Mono', 'STIXSizeThreeSym', 'cmmi10', 'STIXGeneral', 'DejaVu Serif', 'STIXNonUnicode', 'DejaVu Sans Mono', 'cmsy10', 'DejaVu Sans', 'cmb10', 'STIXNonUnicode', 'STIXGeneral', 'DejaVu Serif', 'STIXSizeFourSym', 'DejaVu Sans Mono', 'STIXNonUnicode', 'STIXSizeTwoSym', 'STIXSizeFourSym', 'cmss10', 'DejaVu Sans', 'DejaVu Serif', 'STIXGeneral', 'cmr10', 'cmtt10', 'STIXNonUnicode', 'DejaVu Serif Display', 'DejaVu Sans Display', 'STIXSizeTwoSym', 'DejaVu Sans Mono', 'Georgia', 'Dubai', 'Linux Biolinum G', 'Rubik', 'Noto Sans Armenian', 'Lucida Handwriting', 'Microsoft PhagsPa', 'Book Antiqua', 'Leelawadee', 'Segoe UI Variable', 'Javanese Text', 'Liberation Sans', 'Arial', 'Frank Ruehl CLM', 'MT Extra', 'Gentium Basic', 'DejaVu Sans Mono', 'Arial', 'Segoe UI', 'Segoe UI Historic', 'Microsoft New Tai Lue', 'Gentium Basic', 'Comic Sans MS', 'DejaVu Sans', 'Frank Ruhl Hofshi', 'MS Gothic', 'Microsoft JhengHei', 'Yu Gothic', 'Courier New', 'DejaVu Serif', 'Wingdings 3', 'Cambria', 'Rubik', 'Noto Sans', 'Palatino Linotype', 'Gabriola', 'Amiri', 'Noto Serif Hebrew', 'Liberation Mono', 'Nirmala UI', 'Noto Serif', 'Calibri', 'Microsoft JhengHei', 'MS Reference Sans Serif', 'Gentium Book Basic', 'Liberation Sans Narrow', 'Nachlieli CLM', 'Constantia', 'Linux Libertine G', 'Wingdings 2', 'Microsoft JhengHei', 'SimSun', 'Corbel', 'Noto Serif', 'Nachlieli CLM', 'Noto Sans', 'DejaVu Sans', 'Segoe MDL2 Assets', 'Segoe UI', 'Noto Serif Hebrew', 'Noto Sans Lao', 'Verdana', 'Nirmala UI', 'DejaVu Sans', 'Candara', 'Webdings', 'DejaVu Math TeX Gyre', 'Liberation Serif', 'Miriam CLM', 'Linux Biolinum G', 'Linux Libertine G', 'Gentium Book Basic', 'Reem Kufi', 'Linux Biolinum G', 'Cambria', 'Nachlieli CLM', 'Book Antiqua', 'Segoe Script', 'Times New Roman', 'Miriam Libre', 'Lucida Sans Unicode', 'David CLM', 'Franklin Gothic Medium', 'Constantia', 'Leelawadee UI', 'Noto Serif Lao', 'Reem Kufi', 'Microsoft YaHei', 'David CLM', 'Noto Sans Lisu', 'Microsoft Sans Serif', 'Yu Gothic', 'Gadugi', 'Ink Free', 'Sans Serif Collection', 'Noto Serif Georgian', 'Candara', 'Linux Libertine G', 'DejaVu Serif', 'Noto Sans Arabic', 'DejaVu Serif', 'Caladea', 'Courier New', 'Noto Sans', 'Noto Sans Hebrew', 'Segoe Print', 'Noto Serif Lao', 'OpenSymbol', 'Candara', 'Segoe Print', 'Gentium Basic', 'DejaVu Sans', 'Frank Ruehl CLM', 'Scheherazade', 'Caladea', 'Amiri', 'Microsoft Yi Baiti', 'Comic Sans MS', 'Wingdings', 'Century Gothic', 'Gadugi', 'Noto Serif Armenian', 'Liberation Serif', 'Noto Serif', 'Segoe UI', 'DejaVu Serif', 'Noto Sans', 'Myanmar Text', 'DejaVu Sans', 'Sitka', 'Myanmar Text', 'Malgun Gothic', 'Times New Roman', 'David CLM', 'Bahnschrift', 'Nachlieli CLM', 'Arial', 'Comic Sans MS', 'Amiri Quran', 'Microsoft Himalaya', 'DejaVu Sans Mono', 'Calibri', 'Candara', 'Carlito', 'Century Gothic', 'Segoe UI', 'Carlito', 'Impact', 'DejaVu Serif', 'Yu Gothic', 'Mistral', 'Alef', 'Gentium Book Basic', 'Noto Serif Armenian', 'Caladea', 'Consolas', 'Alef', 'Frank Ruehl CLM', 'Century', 'David Libre', 'Franklin Gothic Medium', 'Segoe UI', 'Noto Sans Lao', 'Liberation Serif', 'Dubai', 'Liberation Mono', 'Constantia', 'Segoe UI Symbol', 'HoloLens MDL2 Assets', 'Liberation Serif', 'Cambria', 'Microsoft Uighur', 'Candara', 'Verdana', 'MV Boli', 'Palatino Linotype', 'Georgia', 'Liberation Mono', 'DejaVu Sans Mono', 'Malgun Gothic', 'Century Gothic', 'Consolas', 'Tahoma', 'Dubai', 'Leelawadee UI', 'Freestyle Script', 'DejaVu Sans Mono', 'Linux Libertine Display G', 'Trebuchet MS', 'Trebuchet MS', 'Sylfaen', 'Tempus Sans ITC', 'Candara', 'Dubai', 'Amiri', 'Noto Serif', 'Liberation Sans Narrow', 'Liberation Sans Narrow', 'Georgia', 'Gentium Book Basic', 'Segoe UI', 'Bookshelf Symbol 7', 'Noto Sans Hebrew', 'Liberation Sans', 'Segoe Fluent Icons', 'DejaVu Serif', 'David Libre', 'Sitka', 'Noto Kufi Arabic', 'Frank Ruhl Hofshi', 'Noto Sans Georgian', 'Juice ITC', 'Georgia', 'Trebuchet MS', 'Gentium Basic', 'Linux Libertine G', 'Lucida Console', 'Calibri', 'Consolas', 'Miriam Mono CLM', 'Segoe UI Emoji', 'Bradley Hand ITC', 'Liberation Sans', 'Microsoft Tai Le', 'Carlito', 'Yu Gothic', 'Segoe UI', 'Palatino Linotype', 'DejaVu Serif', 'DejaVu Serif', 'Microsoft YaHei', 'Arial', 'Courier New', 'Arial', 'Amiri', 'DejaVu Sans', 'Miriam Mono CLM', 'Liberation Mono', 'Palatino Linotype', 'Tahoma', 'French Script MT', 'Linux Libertine G', 'Calibri', 'Calibri', 'Microsoft Tai Le', 'Noto Naskh Arabic', 'Noto Serif Georgian', 'Nirmala UI', 'David CLM', 'Segoe Script', 'Noto Sans Lisu', 'Book Antiqua', 'DejaVu Sans', 'Papyrus', 'Book Antiqua', 'DejaVu Sans', 'Noto Sans Georgian', 'Trebuchet MS', 'Microsoft New Tai Lue', 'Comic Sans MS', 'Microsoft PhagsPa', 'Liberation Sans', 'Leelawadee UI', 'Calibri', 'Corbel', 'Rubik', 'Noto Sans Armenian', 'Noto Sans Arabic', 'Kristen ITC', 'Segoe UI', 'Segoe UI', 'Verdana', 'Consolas', 'Carlito', 'Verdana', 'Noto Kufi Arabic', 'Ebrima', 'Microsoft Uighur', 'Times New Roman', 'Ebrima', 'Linux Libertine G', 'Miriam Mono CLM', 'Microsoft YaHei', 'Symbol', 'Liberation Sans Narrow', 'Miriam Libre', 'Leelawadee', 'SimSun-ExtB', 'Caladea', 'Times New Roman', 'Segoe UI', 'Mongolian Baiti', 'MingLiU-ExtB', 'Segoe UI', 'Corbel', 'Rubik', 'Courier New', 'Corbel', 'Segoe UI', 'Noto Naskh Arabic', 'Century Gothic', 'Scheherazade', 'Cambria', 'Frank Ruehl CLM', 'Corbel', 'Constantia', 'Malgun Gothic', 'DejaVu Sans', 'Miriam CLM', 'MS Reference Specialty', 'Pristina', 'Corbel', 'Miriam Mono CLM']\n"
     ]
    }
   ],
   "source": [
    "import matplotlib.font_manager as fm\n",
    "font_names = [f.name for f in fm.fontManager.ttflist]\n",
    "print(\"Available fonts:\", font_names)"
   ]
  },
  {
   "cell_type": "code",
   "execution_count": 2,
   "metadata": {},
   "outputs": [
    {
     "data": {
      "text/plain": [
       "False"
      ]
     },
     "execution_count": 2,
     "metadata": {},
     "output_type": "execute_result"
    }
   ],
   "source": [
    "\"Tam\" in font_names"
   ]
  },
  {
   "cell_type": "code",
   "execution_count": null,
   "metadata": {},
   "outputs": [],
   "source": [
    "# (Devanagari, Nepali, Sanskrit, and Marathi Font)."
   ]
  },
  {
   "cell_type": "markdown",
   "metadata": {},
   "source": [
    "## Prediction with color coding"
   ]
  },
  {
   "cell_type": "code",
   "execution_count": 9,
   "metadata": {},
   "outputs": [
    {
     "data": {
      "text/html": [
       "<table border=\"1\" class=\"dataframe\">\n",
       "  <thead>\n",
       "    <tr style=\"text-align: right;\">\n",
       "      <th>Input</th>\n",
       "      <th>Actual_Y</th>\n",
       "      <th>colored prediction</th>\n",
       "    </tr>\n",
       "  </thead>\n",
       "  <tbody>\n",
       "    <tr>\n",
       "      <td>Testing1</td>\n",
       "      <td>Test1</td>\n",
       "      <td><span style='color:green'>T</span><span style='color:green'>e</span><span style='color:green'>s</span><span style='color:red'>_</span><span style='color:green'>1</span></td>\n",
       "    </tr>\n",
       "    <tr>\n",
       "      <td>Testing2</td>\n",
       "      <td>Test2</td>\n",
       "      <td><span style='color:green'>T</span><span style='color:green'>e</span><span style='color:green'>s</span><span style='color:green'>t</span><span style='color:red'>_</span></td>\n",
       "    </tr>\n",
       "  </tbody>\n",
       "</table>"
      ],
      "text/plain": [
       "<IPython.core.display.HTML object>"
      ]
     },
     "metadata": {},
     "output_type": "display_data"
    }
   ],
   "source": [
    "import pandas as pd\n",
    "from IPython.display import display, HTML\n",
    "\n",
    "def color_code_text(row):\n",
    "    input_text = row['Input']\n",
    "    actual_text = row['Actual_Y']\n",
    "    pred_text = row['Prediction']\n",
    "    \n",
    "    colored = []\n",
    "    # Compare up to the shorter length\n",
    "    for i in range(min(len(actual_text), len(pred_text))):\n",
    "        char = pred_text[i]\n",
    "        color = 'green' if char == actual_text[i] else 'red'\n",
    "        colored.append(f\"<span style='color:{color}'>{char}</span>\")\n",
    "    \n",
    "    # Extra predicted chars (over-prediction)\n",
    "    for char in pred_text[len(actual_text):]:\n",
    "        colored.append(f\"<span style='color:red'>{char}</span>\")\n",
    "    \n",
    "    # Missing chars (under-prediction)\n",
    "    for _ in actual_text[len(pred_text):]:\n",
    "        colored.append(f\"<span style='color:red'>_</span>\")\n",
    "    \n",
    "    return ''.join(colored)\n",
    "\n",
    "# Assuming `df` is your DataFrame with the three columns\n",
    "df = pd.DataFrame({\n",
    "    'Input':   [\"Testing1\",\"Testing2\"],  # your input data\n",
    "    'Actual_Y':  [\"Test1\",\"Test2\"],  # ground truth\n",
    "    'Prediction':[\"Tes_1\",\"Test_\"]  # model outputs\n",
    "})\n",
    "\n",
    "# Apply color coding to first 10 rows\n",
    "subset = df.head().copy()\n",
    "subset['colored prediction'] = subset.apply(color_code_text, axis=1)\n",
    "\n",
    "# Generate HTML table without escaping HTML tags\n",
    "html_table = subset[['Input', 'Actual_Y', 'colored prediction']] \\\n",
    "    .to_html(escape=False, index=False)\n",
    "\n",
    "# Display in a Jupyter notebook\n",
    "display(HTML(html_table))\n"
   ]
  },
  {
   "cell_type": "code",
   "execution_count": 13,
   "metadata": {},
   "outputs": [],
   "source": [
    "## load the prediction and make the vizualization\n",
    "\n",
    "pred = pd.read_csv(os.path.join(\"..\",\"predictions_vanilla\",\"basic_prediction.csv\"))"
   ]
  },
  {
   "cell_type": "code",
   "execution_count": 14,
   "metadata": {},
   "outputs": [
    {
     "data": {
      "text/html": [
       "<table border=\"1\" class=\"dataframe\">\n",
       "  <thead>\n",
       "    <tr style=\"text-align: right;\">\n",
       "      <th>Input</th>\n",
       "      <th>Actual_Y</th>\n",
       "      <th>colored prediction</th>\n",
       "    </tr>\n",
       "  </thead>\n",
       "  <tbody>\n",
       "    <tr>\n",
       "      <td>faarm-------------------------</td>\n",
       "      <td>ஃபார்ம்\\n</td>\n",
       "      <td><span style='color:red'>ப</span><span style='color:red'>ா</span><span style='color:red'>ர</span><span style='color:red'>்</span><span style='color:red'>ம</span><span style='color:red'>்</span><span style='color:red'>\\n</span><span style='color:red'>ு</span></td>\n",
       "    </tr>\n",
       "    <tr>\n",
       "      <td>farm--------------------------</td>\n",
       "      <td>ஃபார்ம்\\n</td>\n",
       "      <td><span style='color:red'>ப</span><span style='color:red'>ா</span><span style='color:red'>ர</span><span style='color:red'>்</span><span style='color:red'>ம</span><span style='color:red'>்</span><span style='color:red'>\\n</span><span style='color:red'>ு</span></td>\n",
       "    </tr>\n",
       "    <tr>\n",
       "      <td>form--------------------------</td>\n",
       "      <td>ஃபார்ம்\\n</td>\n",
       "      <td><span style='color:red'>ப</span><span style='color:red'>ோ</span><span style='color:red'>ர</span><span style='color:red'>்</span><span style='color:red'>ம</span><span style='color:red'>்</span><span style='color:red'>\\n</span><span style='color:red'>ு</span></td>\n",
       "    </tr>\n",
       "    <tr>\n",
       "      <td>hpaarm------------------------</td>\n",
       "      <td>ஃபார்ம்\\n</td>\n",
       "      <td><span style='color:red'>ப</span><span style='color:red'>ா</span><span style='color:red'>ர</span><span style='color:red'>்</span><span style='color:red'>ம</span><span style='color:red'>்</span><span style='color:red'>\\n</span><span style='color:red'>ு</span></td>\n",
       "    </tr>\n",
       "    <tr>\n",
       "      <td>face--------------------------</td>\n",
       "      <td>ஃபேஸ்\\n</td>\n",
       "      <td><span style='color:red'>ப</span><span style='color:red'>ா</span><span style='color:red'>க</span><span style='color:red'>்</span><span style='color:red'>க</span><span style='color:red'>ி</span></td>\n",
       "    </tr>\n",
       "  </tbody>\n",
       "</table>"
      ],
      "text/plain": [
       "<IPython.core.display.HTML object>"
      ]
     },
     "metadata": {},
     "output_type": "display_data"
    }
   ],
   "source": [
    "# Apply color coding to first 10 rows\n",
    "subset = pred.head().copy()\n",
    "subset['colored prediction'] = subset.apply(color_code_text, axis=1)\n",
    "\n",
    "# Generate HTML table without escaping HTML tags\n",
    "html_table = subset[['Input', 'Actual_Y', 'colored prediction']] \\\n",
    "    .to_html(escape=False, index=False)\n",
    "\n",
    "# Display in a Jupyter notebook\n",
    "display(HTML(html_table))"
   ]
  },
  {
   "cell_type": "code",
   "execution_count": 11,
   "metadata": {},
   "outputs": [
    {
     "data": {
      "text/plain": [
       "'<table border=\"1\" class=\"dataframe\">\\n  <thead>\\n    <tr style=\"text-align: right;\">\\n      <th>Input</th>\\n      <th>Actual_Y</th>\\n      <th>colored prediction</th>\\n    </tr>\\n  </thead>\\n  <tbody>\\n    <tr>\\n      <td>faarm-------------------------</td>\\n      <td>ஃபார்ம்\\\\n</td>\\n      <td><span style=\\'color:red\\'>ப</span><span style=\\'color:red\\'>ா</span><span style=\\'color:red\\'>ர</span><span style=\\'color:red\\'>்</span><span style=\\'color:red\\'>ம</span><span style=\\'color:red\\'>்</span><span style=\\'color:red\\'>\\\\n</span><span style=\\'color:red\\'>ு</span></td>\\n    </tr>\\n    <tr>\\n      <td>farm--------------------------</td>\\n      <td>ஃபார்ம்\\\\n</td>\\n      <td><span style=\\'color:red\\'>ப</span><span style=\\'color:red\\'>ா</span><span style=\\'color:red\\'>ர</span><span style=\\'color:red\\'>்</span><span style=\\'color:red\\'>ம</span><span style=\\'color:red\\'>்</span><span style=\\'color:red\\'>\\\\n</span><span style=\\'color:red\\'>ு</span></td>\\n    </tr>\\n    <tr>\\n      <td>form--------------------------</td>\\n      <td>ஃபார்ம்\\\\n</td>\\n      <td><span style=\\'color:red\\'>ப</span><span style=\\'color:red\\'>ோ</span><span style=\\'color:red\\'>ர</span><span style=\\'color:red\\'>்</span><span style=\\'color:red\\'>ம</span><span style=\\'color:red\\'>்</span><span style=\\'color:red\\'>\\\\n</span><span style=\\'color:red\\'>ு</span></td>\\n    </tr>\\n    <tr>\\n      <td>hpaarm------------------------</td>\\n      <td>ஃபார்ம்\\\\n</td>\\n      <td><span style=\\'color:red\\'>ப</span><span style=\\'color:red\\'>ா</span><span style=\\'color:red\\'>ர</span><span style=\\'color:red\\'>்</span><span style=\\'color:red\\'>ம</span><span style=\\'color:red\\'>்</span><span style=\\'color:red\\'>\\\\n</span><span style=\\'color:red\\'>ு</span></td>\\n    </tr>\\n    <tr>\\n      <td>face--------------------------</td>\\n      <td>ஃபேஸ்\\\\n</td>\\n      <td><span style=\\'color:red\\'>ப</span><span style=\\'color:red\\'>ா</span><span style=\\'color:red\\'>க</span><span style=\\'color:red\\'>்</span><span style=\\'color:red\\'>க</span><span style=\\'color:red\\'>ி</span></td>\\n    </tr>\\n  </tbody>\\n</table>'"
      ]
     },
     "execution_count": 11,
     "metadata": {},
     "output_type": "execute_result"
    }
   ],
   "source": [
    "html_table"
   ]
  },
  {
   "cell_type": "code",
   "execution_count": 12,
   "metadata": {},
   "outputs": [
    {
     "data": {
      "text/html": [
       "<div>\n",
       "<style scoped>\n",
       "    .dataframe tbody tr th:only-of-type {\n",
       "        vertical-align: middle;\n",
       "    }\n",
       "\n",
       "    .dataframe tbody tr th {\n",
       "        vertical-align: top;\n",
       "    }\n",
       "\n",
       "    .dataframe thead th {\n",
       "        text-align: right;\n",
       "    }\n",
       "</style>\n",
       "<table border=\"1\" class=\"dataframe\">\n",
       "  <thead>\n",
       "    <tr style=\"text-align: right;\">\n",
       "      <th></th>\n",
       "      <th>Input</th>\n",
       "      <th>Actual_Y</th>\n",
       "      <th>Prediction</th>\n",
       "      <th>Actual_Y_idx</th>\n",
       "      <th>Prediction_idx</th>\n",
       "    </tr>\n",
       "  </thead>\n",
       "  <tbody>\n",
       "    <tr>\n",
       "      <th>0</th>\n",
       "      <td>faarm-------------------------</td>\n",
       "      <td>ஃபார்ம்\\n</td>\n",
       "      <td>பார்ம்\\nு</td>\n",
       "      <td>[2, 24, 36, 27, 47, 25, 47, 1]</td>\n",
       "      <td>[24, 36, 27, 47, 25, 47, 1, 39]</td>\n",
       "    </tr>\n",
       "    <tr>\n",
       "      <th>1</th>\n",
       "      <td>farm--------------------------</td>\n",
       "      <td>ஃபார்ம்\\n</td>\n",
       "      <td>பார்ம்\\nு</td>\n",
       "      <td>[2, 24, 36, 27, 47, 25, 47, 1]</td>\n",
       "      <td>[24, 36, 27, 47, 25, 47, 1, 39]</td>\n",
       "    </tr>\n",
       "    <tr>\n",
       "      <th>2</th>\n",
       "      <td>form--------------------------</td>\n",
       "      <td>ஃபார்ம்\\n</td>\n",
       "      <td>போர்ம்\\nு</td>\n",
       "      <td>[2, 24, 36, 27, 47, 25, 47, 1]</td>\n",
       "      <td>[24, 45, 27, 47, 25, 47, 1, 39]</td>\n",
       "    </tr>\n",
       "    <tr>\n",
       "      <th>3</th>\n",
       "      <td>hpaarm------------------------</td>\n",
       "      <td>ஃபார்ம்\\n</td>\n",
       "      <td>பார்ம்\\nு</td>\n",
       "      <td>[2, 24, 36, 27, 47, 25, 47, 1]</td>\n",
       "      <td>[24, 36, 27, 47, 25, 47, 1, 39]</td>\n",
       "    </tr>\n",
       "    <tr>\n",
       "      <th>4</th>\n",
       "      <td>face--------------------------</td>\n",
       "      <td>ஃபேஸ்\\n</td>\n",
       "      <td>பாக்கி</td>\n",
       "      <td>[2, 24, 42, 34, 47, 1]</td>\n",
       "      <td>[24, 36, 14, 47, 14, 37]</td>\n",
       "    </tr>\n",
       "    <tr>\n",
       "      <th>...</th>\n",
       "      <td>...</td>\n",
       "      <td>...</td>\n",
       "      <td>...</td>\n",
       "      <td>...</td>\n",
       "      <td>...</td>\n",
       "    </tr>\n",
       "    <tr>\n",
       "      <th>95</th>\n",
       "      <td>adiyum------------------------</td>\n",
       "      <td>அடியும்\\n</td>\n",
       "      <td>அடியும்\\n</td>\n",
       "      <td>[3, 19, 37, 26, 39, 25, 47, 1]</td>\n",
       "      <td>[3, 19, 37, 26, 39, 25, 47, 1]</td>\n",
       "    </tr>\n",
       "    <tr>\n",
       "      <th>96</th>\n",
       "      <td>atiyum------------------------</td>\n",
       "      <td>அடியும்\\n</td>\n",
       "      <td>அடியும்\\n</td>\n",
       "      <td>[3, 19, 37, 26, 39, 25, 47, 1]</td>\n",
       "      <td>[3, 19, 37, 26, 39, 25, 47, 1]</td>\n",
       "    </tr>\n",
       "    <tr>\n",
       "      <th>97</th>\n",
       "      <td>adiyai------------------------</td>\n",
       "      <td>அடியை\\n</td>\n",
       "      <td>அடியை\\n</td>\n",
       "      <td>[3, 19, 37, 26, 43, 1]</td>\n",
       "      <td>[3, 19, 37, 26, 43, 1]</td>\n",
       "    </tr>\n",
       "    <tr>\n",
       "      <th>98</th>\n",
       "      <td>atiyai------------------------</td>\n",
       "      <td>அடியை\\n</td>\n",
       "      <td>அடியை\\n</td>\n",
       "      <td>[3, 19, 37, 26, 43, 1]</td>\n",
       "      <td>[3, 19, 37, 26, 43, 1]</td>\n",
       "    </tr>\n",
       "    <tr>\n",
       "      <th>99</th>\n",
       "      <td>aduththum---------------------</td>\n",
       "      <td>அடுத்தும்\\n</td>\n",
       "      <td>அடுத்தும்\\n</td>\n",
       "      <td>[3, 19, 39, 21, 47, 21, 39, 25, 47, 1]</td>\n",
       "      <td>[3, 19, 39, 21, 47, 21, 39, 25, 47, 1]</td>\n",
       "    </tr>\n",
       "  </tbody>\n",
       "</table>\n",
       "<p>100 rows × 5 columns</p>\n",
       "</div>"
      ],
      "text/plain": [
       "                             Input     Actual_Y   Prediction  \\\n",
       "0   faarm-------------------------    ஃபார்ம்\\n    பார்ம்\\nு   \n",
       "1   farm--------------------------    ஃபார்ம்\\n    பார்ம்\\nு   \n",
       "2   form--------------------------    ஃபார்ம்\\n    போர்ம்\\nு   \n",
       "3   hpaarm------------------------    ஃபார்ம்\\n    பார்ம்\\nு   \n",
       "4   face--------------------------      ஃபேஸ்\\n       பாக்கி   \n",
       "..                             ...          ...          ...   \n",
       "95  adiyum------------------------    அடியும்\\n    அடியும்\\n   \n",
       "96  atiyum------------------------    அடியும்\\n    அடியும்\\n   \n",
       "97  adiyai------------------------      அடியை\\n      அடியை\\n   \n",
       "98  atiyai------------------------      அடியை\\n      அடியை\\n   \n",
       "99  aduththum---------------------  அடுத்தும்\\n  அடுத்தும்\\n   \n",
       "\n",
       "                              Actual_Y_idx  \\\n",
       "0           [2, 24, 36, 27, 47, 25, 47, 1]   \n",
       "1           [2, 24, 36, 27, 47, 25, 47, 1]   \n",
       "2           [2, 24, 36, 27, 47, 25, 47, 1]   \n",
       "3           [2, 24, 36, 27, 47, 25, 47, 1]   \n",
       "4                   [2, 24, 42, 34, 47, 1]   \n",
       "..                                     ...   \n",
       "95          [3, 19, 37, 26, 39, 25, 47, 1]   \n",
       "96          [3, 19, 37, 26, 39, 25, 47, 1]   \n",
       "97                  [3, 19, 37, 26, 43, 1]   \n",
       "98                  [3, 19, 37, 26, 43, 1]   \n",
       "99  [3, 19, 39, 21, 47, 21, 39, 25, 47, 1]   \n",
       "\n",
       "                            Prediction_idx  \n",
       "0          [24, 36, 27, 47, 25, 47, 1, 39]  \n",
       "1          [24, 36, 27, 47, 25, 47, 1, 39]  \n",
       "2          [24, 45, 27, 47, 25, 47, 1, 39]  \n",
       "3          [24, 36, 27, 47, 25, 47, 1, 39]  \n",
       "4                 [24, 36, 14, 47, 14, 37]  \n",
       "..                                     ...  \n",
       "95          [3, 19, 37, 26, 39, 25, 47, 1]  \n",
       "96          [3, 19, 37, 26, 39, 25, 47, 1]  \n",
       "97                  [3, 19, 37, 26, 43, 1]  \n",
       "98                  [3, 19, 37, 26, 43, 1]  \n",
       "99  [3, 19, 39, 21, 47, 21, 39, 25, 47, 1]  \n",
       "\n",
       "[100 rows x 5 columns]"
      ]
     },
     "execution_count": 12,
     "metadata": {},
     "output_type": "execute_result"
    }
   ],
   "source": [
    "pred"
   ]
  }
 ],
 "metadata": {
  "kernelspec": {
   "display_name": "fastapi",
   "language": "python",
   "name": "python3"
  },
  "language_info": {
   "codemirror_mode": {
    "name": "ipython",
    "version": 3
   },
   "file_extension": ".py",
   "mimetype": "text/x-python",
   "name": "python",
   "nbconvert_exporter": "python",
   "pygments_lexer": "ipython3",
   "version": "3.11.11"
  }
 },
 "nbformat": 4,
 "nbformat_minor": 2
}
