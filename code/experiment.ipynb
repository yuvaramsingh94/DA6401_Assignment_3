{
 "cells": [
  {
   "cell_type": "code",
   "execution_count": 14,
   "metadata": {},
   "outputs": [],
   "source": [
    "import os\n",
    "import pandas as pd\n",
    "import json\n",
    "from utils import decoder_function\n",
    "from dataloader import CustomTextDataset"
   ]
  },
  {
   "cell_type": "markdown",
   "metadata": {},
   "source": [
    "## About\n",
    "convert the text into integers and character mapping\n",
    "\n",
    "### TODO\n",
    "- Join all the train, test and val so all the character in the dataset is used\n"
   ]
  },
  {
   "cell_type": "code",
   "execution_count": 6,
   "metadata": {},
   "outputs": [],
   "source": [
    "## \n",
    "DATASET_PATH = os.path.join(\"..\",\"dataset\",\"dakshina_dataset_v1.0\",\"ta\",\"lexicons\")\n",
    "TRAIN = \"ta.translit.sampled.train.tsv\"\n",
    "VAL = \"ta.translit.sampled.dev.tsv\"\n",
    "TEST =   \"ta.translit.sampled.test.tsv\""
   ]
  },
  {
   "cell_type": "code",
   "execution_count": 3,
   "metadata": {},
   "outputs": [
    {
     "name": "stdout",
     "output_type": "stream",
     "text": [
      "ta.translit.sampled.train.tsv 68218\n",
      "ta.translit.sampled.dev.tsv 6827\n",
      "ta.translit.sampled.test.tsv 6864\n"
     ]
    }
   ],
   "source": [
    "all_lines = []\n",
    "for datasplit in [TRAIN, VAL,TEST]:\n",
    "    with open(os.path.join(DATASET_PATH, datasplit), \"r\", encoding=\"utf-8\") as f:\n",
    "        lines = f.read().split(\"\\n\")\n",
    "        lines = [i for i in lines if len(i)>0]\n",
    "        print(datasplit, len(lines))\n",
    "        all_lines.extend(lines)"
   ]
  },
  {
   "cell_type": "code",
   "execution_count": 4,
   "metadata": {},
   "outputs": [
    {
     "name": "stdout",
     "output_type": "stream",
     "text": [
      "Number of samples: 81909\n",
      "Number of unique input tokens: 26\n",
      "Number of unique output tokens: 48\n",
      "Max sequence length for inputs: 30\n",
      "Max sequence length for outputs: 28\n"
     ]
    }
   ],
   "source": [
    "# Vectorize the data.\n",
    "input_texts = []\n",
    "target_texts = []\n",
    "input_characters = set()\n",
    "target_characters = set()\n",
    "num_samples = 10\n",
    "for line in all_lines:\n",
    "    target_text, input_text, _ = line.split(\"\\t\")\n",
    "    # We use \"tab\" as the \"start sequence\" character\n",
    "    # for the targets, and \"\\n\" as \"end sequence\" character.\n",
    "    target_text = \"\\t\" + target_text + \"\\n\"\n",
    "    input_texts.append(input_text)\n",
    "    target_texts.append(target_text)\n",
    "    for char in input_text:\n",
    "        if char not in input_characters:\n",
    "            input_characters.add(char)\n",
    "    for char in target_text:\n",
    "        if char not in target_characters:\n",
    "            target_characters.add(char)\n",
    "\n",
    "input_characters = sorted(list(input_characters))\n",
    "target_characters = sorted(list(target_characters))\n",
    "num_encoder_tokens = len(input_characters)\n",
    "num_decoder_tokens = len(target_characters)\n",
    "max_encoder_seq_length = max([len(txt) for txt in input_texts])\n",
    "max_decoder_seq_length = max([len(txt) for txt in target_texts])\n",
    "\n",
    "print(\"Number of samples:\", len(input_texts))\n",
    "print(\"Number of unique input tokens:\", num_encoder_tokens)\n",
    "print(\"Number of unique output tokens:\", num_decoder_tokens)\n",
    "print(\"Max sequence length for inputs:\", max_encoder_seq_length)\n",
    "print(\"Max sequence length for outputs:\", max_decoder_seq_length)\n",
    "\n",
    "\n",
    "## Character to index this is for the embedding layer\n",
    "english_token_index = dict([(char, i) for i, char in enumerate(input_characters)])\n",
    "tamil_token_index = dict([(char, i) for i, char in enumerate(target_characters)])\n",
    "\n",
    "with open(os.path.join(DATASET_PATH,\"english_token_index.json\"), \"w\", encoding=\"utf-8\") as file:\n",
    "\tjson.dump(english_token_index, file, indent=4)\n",
    "with open(os.path.join(DATASET_PATH,\"tamil_token_index.json\"), \"w\", encoding=\"utf-8\") as file:\n",
    "\tjson.dump(tamil_token_index, file, indent=4)\n",
    "\n"
   ]
  },
  {
   "cell_type": "code",
   "execution_count": null,
   "metadata": {},
   "outputs": [],
   "source": [
    "# Number of samples: 81909\n",
    "# Number of unique input tokens: 46\n",
    "# Number of unique output tokens: 28\n",
    "# Max sequence length for inputs: 26\n",
    "# Max sequence length for outputs: 32"
   ]
  },
  {
   "cell_type": "code",
   "execution_count": 7,
   "metadata": {},
   "outputs": [],
   "source": [
    "# How to load the dict\n",
    "# with open(os.path.join(DATASET_PATH,\"input_token_index.json\"),'r', encoding=\"utf-8\") as f:\n",
    "# \tdata = json.load(f)\n",
    "# print(data)"
   ]
  },
  {
   "cell_type": "code",
   "execution_count": 5,
   "metadata": {},
   "outputs": [],
   "source": [
    "for datasplit in [TRAIN, VAL,TEST]:\n",
    "    tamil_char_idx_list = []\n",
    "    eng_char_idx_list = []\n",
    "    with open(os.path.join(DATASET_PATH, datasplit), \"r\", encoding=\"utf-8\") as f:\n",
    "        lines = f.read().split(\"\\n\")\n",
    "        for line in all_lines:\n",
    "            target_text,input_text, _ = line.split(\"\\t\")\n",
    "            target_text = \"\\t\" + target_text + \"\\n\"\n",
    "\n",
    "            tamil_char_idx_list.append(\",\".join(str(tamil_token_index[i]) for i in target_text))\n",
    "            eng_char_idx_list.append(\",\".join(str(english_token_index[i]) for i in input_text))\n",
    "    char_idx_df = pd.DataFrame.from_dict({\"Tamil\":tamil_char_idx_list,\"English\":eng_char_idx_list})\n",
    "    char_idx_df.to_csv(os.path.join(DATASET_PATH, datasplit.replace(\".tsv\",\".idx.csv\")),index=False)\n",
    "\n",
    "\n",
    "## Save the mapping dict\n"
   ]
  },
  {
   "cell_type": "code",
   "execution_count": 7,
   "metadata": {},
   "outputs": [],
   "source": [
    "char_idx_df = pd.read_csv(os.path.join(DATASET_PATH, \"ta.translit.sampled.train.idx.csv\"))\n",
    "\n",
    "\n",
    "with open(os.path.join(DATASET_PATH,\"tamil_token_index.json\"),'r', encoding=\"utf-8\") as f:\n",
    "\ttamil_idx = json.load(f)\n",
    "tamil_idx_to_char = {j:i for i,j in tamil_idx.items()}\n",
    "\n",
    "with open(os.path.join(DATASET_PATH,\"english_token_index.json\"),'r', encoding=\"utf-8\") as f:\n",
    "\tenglish_idx = json.load(f)\n",
    "english_idx_to_char = {j:i for i,j in english_idx.items()}"
   ]
  },
  {
   "cell_type": "code",
   "execution_count": 15,
   "metadata": {},
   "outputs": [
    {
     "data": {
      "text/html": [
       "<div>\n",
       "<style scoped>\n",
       "    .dataframe tbody tr th:only-of-type {\n",
       "        vertical-align: middle;\n",
       "    }\n",
       "\n",
       "    .dataframe tbody tr th {\n",
       "        vertical-align: top;\n",
       "    }\n",
       "\n",
       "    .dataframe thead th {\n",
       "        text-align: right;\n",
       "    }\n",
       "</style>\n",
       "<table border=\"1\" class=\"dataframe\">\n",
       "  <thead>\n",
       "    <tr style=\"text-align: right;\">\n",
       "      <th></th>\n",
       "      <th>Tamil</th>\n",
       "      <th>English</th>\n",
       "      <th>Tamil_string</th>\n",
       "      <th>English_string</th>\n",
       "    </tr>\n",
       "  </thead>\n",
       "  <tbody>\n",
       "    <tr>\n",
       "      <th>0</th>\n",
       "      <td>0,2,24,37,26,19,47,1</td>\n",
       "      <td>5,8,0,19</td>\n",
       "      <td>\\tஃபியட்\\n</td>\n",
       "      <td>fiat</td>\n",
       "    </tr>\n",
       "    <tr>\n",
       "      <th>1</th>\n",
       "      <td>0,2,24,37,26,19,47,1</td>\n",
       "      <td>15,7,8,24,0,19</td>\n",
       "      <td>\\tஃபியட்\\n</td>\n",
       "      <td>phiyat</td>\n",
       "    </tr>\n",
       "    <tr>\n",
       "      <th>2</th>\n",
       "      <td>0,2,24,37,26,19,47,1</td>\n",
       "      <td>15,8,24,0,19</td>\n",
       "      <td>\\tஃபியட்\\n</td>\n",
       "      <td>piyat</td>\n",
       "    </tr>\n",
       "    <tr>\n",
       "      <th>3</th>\n",
       "      <td>0,2,24,37,27,36,23,47,34,47,1</td>\n",
       "      <td>5,8,17,0,0,13,18</td>\n",
       "      <td>\\tஃபிரான்ஸ்\\n</td>\n",
       "      <td>firaans</td>\n",
       "    </tr>\n",
       "    <tr>\n",
       "      <th>4</th>\n",
       "      <td>0,2,24,37,27,36,23,47,34,47,1</td>\n",
       "      <td>5,17,0,13,2,4</td>\n",
       "      <td>\\tஃபிரான்ஸ்\\n</td>\n",
       "      <td>france</td>\n",
       "    </tr>\n",
       "  </tbody>\n",
       "</table>\n",
       "</div>"
      ],
      "text/plain": [
       "                           Tamil           English   Tamil_string  \\\n",
       "0           0,2,24,37,26,19,47,1          5,8,0,19     \\tஃபியட்\\n   \n",
       "1           0,2,24,37,26,19,47,1    15,7,8,24,0,19     \\tஃபியட்\\n   \n",
       "2           0,2,24,37,26,19,47,1      15,8,24,0,19     \\tஃபியட்\\n   \n",
       "3  0,2,24,37,27,36,23,47,34,47,1  5,8,17,0,0,13,18  \\tஃபிரான்ஸ்\\n   \n",
       "4  0,2,24,37,27,36,23,47,34,47,1     5,17,0,13,2,4  \\tஃபிரான்ஸ்\\n   \n",
       "\n",
       "  English_string  \n",
       "0           fiat  \n",
       "1         phiyat  \n",
       "2          piyat  \n",
       "3        firaans  \n",
       "4         france  "
      ]
     },
     "execution_count": 15,
     "metadata": {},
     "output_type": "execute_result"
    }
   ],
   "source": [
    "\n",
    "\n",
    "char_idx_df[\"Tamil_string\"] = char_idx_df[\"Tamil\"].apply(lambda x: decoder_function(character_idx_seq=x, idx_to_char_dict=tamil_idx_to_char))\n",
    "char_idx_df[\"English_string\"] = char_idx_df[\"English\"].apply(lambda x: decoder_function(character_idx_seq=x, idx_to_char_dict=english_idx_to_char))\n",
    "\n",
    "char_idx_df.head()"
   ]
  },
  {
   "cell_type": "code",
   "execution_count": 8,
   "metadata": {},
   "outputs": [],
   "source": []
  },
  {
   "cell_type": "code",
   "execution_count": 9,
   "metadata": {},
   "outputs": [],
   "source": [
    "text_dataset = CustomTextDataset(dataset_df = char_idx_df)"
   ]
  },
  {
   "cell_type": "code",
   "execution_count": 20,
   "metadata": {},
   "outputs": [
    {
     "name": "stdout",
     "output_type": "stream",
     "text": [
      "adaiyaalam\n",
      "\tஅடையாளம்\n",
      "\n"
     ]
    }
   ],
   "source": [
    "x,y = text_dataset.__getitem__(867)\n",
    "print(decoder_function(character_idx_seq=','.join([str(i) for i in x]), idx_to_char_dict=english_idx_to_char))\n",
    "print(decoder_function(character_idx_seq=','.join([str(i) for i in y]), idx_to_char_dict=tamil_idx_to_char))"
   ]
  },
  {
   "cell_type": "code",
   "execution_count": 12,
   "metadata": {},
   "outputs": [
    {
     "data": {
      "text/plain": [
       "[0, 2, 24, 37, 27, 36, 23, 47, 34, 47, 1]"
      ]
     },
     "execution_count": 12,
     "metadata": {},
     "output_type": "execute_result"
    }
   ],
   "source": [
    "y"
   ]
  }
 ],
 "metadata": {
  "kernelspec": {
   "display_name": "fastapi",
   "language": "python",
   "name": "python3"
  },
  "language_info": {
   "codemirror_mode": {
    "name": "ipython",
    "version": 3
   },
   "file_extension": ".py",
   "mimetype": "text/x-python",
   "name": "python",
   "nbconvert_exporter": "python",
   "pygments_lexer": "ipython3",
   "version": "3.11.11"
  }
 },
 "nbformat": 4,
 "nbformat_minor": 2
}
